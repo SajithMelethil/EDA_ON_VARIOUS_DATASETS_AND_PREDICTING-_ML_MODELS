{
 "cells": [
  {
   "cell_type": "code",
   "execution_count": null,
   "id": "c0e5b3ec",
   "metadata": {},
   "outputs": [],
   "source": [
    "import pandas as pd\n",
    "import numpy as np\n",
    "import matplotlib.pyplot as plt\n",
    "import seaborn as sns\n",
    "import missingno as no\n",
    "\n",
    "plt.rcParams['figure.figsize']=[10,10]\n",
    "\n",
    "\n"
   ]
  },
  {
   "cell_type": "code",
   "execution_count": null,
   "id": "e43adbf3",
   "metadata": {},
   "outputs": [],
   "source": [
    "bb=pd.read_csv('breaking_bad.csv',engine='python',encoding='latin-1')"
   ]
  },
  {
   "cell_type": "code",
   "execution_count": null,
   "id": "ddba20ca",
   "metadata": {},
   "outputs": [],
   "source": [
    "bb.head()"
   ]
  },
  {
   "cell_type": "code",
   "execution_count": null,
   "id": "eeb61fec",
   "metadata": {},
   "outputs": [],
   "source": [
    "bb.columns"
   ]
  },
  {
   "cell_type": "code",
   "execution_count": null,
   "id": "8211a82d",
   "metadata": {},
   "outputs": [],
   "source": [
    "bb.shape\n"
   ]
  },
  {
   "cell_type": "code",
   "execution_count": null,
   "id": "6f01a437",
   "metadata": {},
   "outputs": [],
   "source": [
    "bb.info()"
   ]
  },
  {
   "cell_type": "code",
   "execution_count": null,
   "id": "ce184ff6",
   "metadata": {},
   "outputs": [],
   "source": [
    "bb['Date']=pd.to_datetime(bb['Date'])"
   ]
  },
  {
   "cell_type": "code",
   "execution_count": null,
   "id": "5c2c51d5",
   "metadata": {},
   "outputs": [],
   "source": [
    "bb.info()"
   ]
  },
  {
   "cell_type": "code",
   "execution_count": null,
   "id": "0e31ff2b",
   "metadata": {},
   "outputs": [],
   "source": [
    "bb['Year']=bb['Date'].dt.year"
   ]
  },
  {
   "cell_type": "code",
   "execution_count": null,
   "id": "db23be72",
   "metadata": {},
   "outputs": [],
   "source": [
    "bb['Month']=bb['Date'].dt.month"
   ]
  },
  {
   "cell_type": "code",
   "execution_count": null,
   "id": "c37bd29d",
   "metadata": {},
   "outputs": [],
   "source": [
    "bb.isnull().sum()"
   ]
  },
  {
   "cell_type": "code",
   "execution_count": null,
   "id": "e4271a57",
   "metadata": {},
   "outputs": [],
   "source": [
    "bb=bb.dropna(how='all')  ###drp entire row if there is kre than 1 zeros\n"
   ]
  },
  {
   "cell_type": "code",
   "execution_count": null,
   "id": "49a15fe5",
   "metadata": {},
   "outputs": [],
   "source": [
    "bb"
   ]
  },
  {
   "cell_type": "code",
   "execution_count": null,
   "id": "83aef65f",
   "metadata": {},
   "outputs": [],
   "source": [
    "bb.isnull().sum()"
   ]
  },
  {
   "cell_type": "code",
   "execution_count": null,
   "id": "eecfd512",
   "metadata": {},
   "outputs": [],
   "source": [
    "bb.columns"
   ]
  },
  {
   "cell_type": "code",
   "execution_count": null,
   "id": "e790ed51",
   "metadata": {},
   "outputs": [],
   "source": [
    "plt.figure(figsize=(12,8))\n",
    "plt.style.use('seaborn')\n",
    "sns.lineplot(x='Date',y='U.S. viewers_million',data=bb)      ##viewers on each day\n"
   ]
  },
  {
   "cell_type": "code",
   "execution_count": null,
   "id": "c5f3ae5c",
   "metadata": {},
   "outputs": [],
   "source": [
    "plt.figure(figsize=(17,7))\n",
    "sns.countplot(bb['Directed by'])\n",
    "plt.xticks(rotation=90)          ##count of episodes written by different directors\n",
    "plt.show()"
   ]
  },
  {
   "cell_type": "code",
   "execution_count": null,
   "id": "2fc855e2",
   "metadata": {},
   "outputs": [],
   "source": [
    "plt.figure(figsize=(17,8))\n",
    "plt.style.use('fivethirtyeight')\n",
    "sns.lineplot(x='Date',y='Rating_IMDB',data=bb)     ##rating on each date\n",
    "plt.show()\n"
   ]
  },
  {
   "cell_type": "code",
   "execution_count": null,
   "id": "5f99282a",
   "metadata": {},
   "outputs": [],
   "source": [
    "bb['Title']"
   ]
  },
  {
   "cell_type": "code",
   "execution_count": null,
   "id": "766f63a7",
   "metadata": {},
   "outputs": [],
   "source": [
    "plt.figure(figsize=(17,8))\n",
    "plt.style.use('ggplot')\n",
    "sns.lineplot(x='Title',y='Rating_IMDB',data=bb)\n",
    "plt.xticks(rotation=90)                                    ###rating of each episodes\n",
    "plt.show()\n"
   ]
  },
  {
   "cell_type": "code",
   "execution_count": null,
   "id": "95332e99",
   "metadata": {},
   "outputs": [],
   "source": [
    "bb.columns"
   ]
  },
  {
   "cell_type": "code",
   "execution_count": null,
   "id": "24ab10da",
   "metadata": {},
   "outputs": [],
   "source": [
    "plt.figure(figsize=(17,8))\n",
    "plt.style.use('ggplot')\n",
    "sns.lineplot(x='Written by',y='Rating_IMDB',data=bb)\n",
    "plt.xticks(rotation=90)                                    ###rating of each episodes written by each writers\n",
    "plt.show()\n"
   ]
  },
  {
   "cell_type": "code",
   "execution_count": null,
   "id": "ece3440b",
   "metadata": {},
   "outputs": [],
   "source": [
    "plt.figure(figsize=(17,8))\n",
    "plt.style.use('ggplot')\n",
    "sns.lineplot(x='Title',y='U.S. viewers_million',data=bb)\n",
    "plt.xticks(rotation=90)                                    ###viewers count based on titles"
   ]
  },
  {
   "cell_type": "code",
   "execution_count": null,
   "id": "901ecfd2",
   "metadata": {},
   "outputs": [],
   "source": [
    "plt.figure(figsize=(20,8))\n",
    "sns.lineplot(x='Date',y='U.S. viewers_million',data=bb,marker='o',hue='Season')\n",
    "plt.xticks(rotation=90)                                    ###viewers on each date of episodes"
   ]
  },
  {
   "cell_type": "code",
   "execution_count": null,
   "id": "0239e587",
   "metadata": {},
   "outputs": [],
   "source": []
  },
  {
   "cell_type": "code",
   "execution_count": null,
   "id": "4ff81398",
   "metadata": {
    "scrolled": true
   },
   "outputs": [],
   "source": [
    "plt.figure(figsize=(17,8))\n",
    "plt.style.use('seaborn')\n",
    "sns.lineplot(x='Duration_mins',y='U.S. viewers_million',data=bb)\n",
    "plt.xticks(rotation=90)                                    ###no of mins watched by viewers"
   ]
  },
  {
   "cell_type": "code",
   "execution_count": null,
   "id": "d8340c24",
   "metadata": {},
   "outputs": [],
   "source": [
    "bb.columns"
   ]
  },
  {
   "cell_type": "code",
   "execution_count": null,
   "id": "57c31987",
   "metadata": {},
   "outputs": [],
   "source": [
    "from pandas_profiling import ProfileReport"
   ]
  },
  {
   "cell_type": "code",
   "execution_count": null,
   "id": "7773619e",
   "metadata": {},
   "outputs": [],
   "source": [
    "report=ProfileReport(bb)\n"
   ]
  },
  {
   "cell_type": "code",
   "execution_count": null,
   "id": "5e765dad",
   "metadata": {
    "scrolled": false
   },
   "outputs": [],
   "source": [
    "report"
   ]
  },
  {
   "cell_type": "code",
   "execution_count": null,
   "id": "adbeb3d0",
   "metadata": {},
   "outputs": [],
   "source": [
    "bb.head()"
   ]
  },
  {
   "cell_type": "markdown",
   "id": "8867fa20",
   "metadata": {},
   "source": [
    "### NLP with Breaking Bad"
   ]
  },
  {
   "cell_type": "code",
   "execution_count": null,
   "id": "5c841ba5",
   "metadata": {},
   "outputs": [],
   "source": [
    "\n",
    "import nltk\n",
    "    \n",
    "nltk.download('stopwords')\n",
    "nltk.download('punkt')"
   ]
  },
  {
   "cell_type": "code",
   "execution_count": null,
   "id": "65407d07",
   "metadata": {},
   "outputs": [],
   "source": [
    "from nltk.tokenize import word_tokenize\n",
    "from nltk.corpus import stopwords\n",
    "from string import punctuation\n",
    "import string     ###  tokenizes each word by using stop words such as as,if,then,they, aeiou stc\n",
    "import squarify\n",
    "import seaborn as sns\n",
    "\n",
    "list_stopwords=set(stopwords.words('english'))"
   ]
  },
  {
   "cell_type": "code",
   "execution_count": null,
   "id": "80926bd3",
   "metadata": {},
   "outputs": [],
   "source": [
    "bb.columns"
   ]
  },
  {
   "cell_type": "code",
   "execution_count": null,
   "id": "a1939be4",
   "metadata": {},
   "outputs": [],
   "source": [
    "bb1['Title']=bb1['Title'].astype(str)"
   ]
  },
  {
   "cell_type": "code",
   "execution_count": null,
   "id": "615ce91e",
   "metadata": {},
   "outputs": [],
   "source": [
    "bb1=bb.loc[:,['Title','Summary']]\n",
    "bb1=bb1.dropna()"
   ]
  },
  {
   "cell_type": "code",
   "execution_count": null,
   "id": "bec905dd",
   "metadata": {},
   "outputs": [],
   "source": [
    "bb1.head()"
   ]
  },
  {
   "cell_type": "code",
   "execution_count": null,
   "id": "e0bfc257",
   "metadata": {},
   "outputs": [],
   "source": [
    "bb1['Title']=bb1['Title'].str.lower()\n",
    "bb1['Title']=bb1['Title'].apply(word_tokenize)\n",
    "bb1['Title']=bb1['Title'].apply(lambda x: [word for word in x if word not in list_stopwords])\n",
    "bb1['Title']=bb1['Title'].apply(lambda x: [word.translate(str.maketrans('','',string.punctuation)) for word in x])\n",
    "\n",
    "\n",
    "\n",
    "bb1.Summary=bb1['Summary'].str.lower()\n",
    "bb1.Summary=bb1['Summary'].apply(word_tokenize)\n",
    "bb1.Summary=bb1['Summary'].apply(lambda x: [word for word in x if word not in list_stopwords])\n",
    "bb1.Summary=bb1['Summary'].apply(lambda x: [word.translate(str.maketrans('','',string.punctuation)) for word in x])"
   ]
  },
  {
   "cell_type": "code",
   "execution_count": null,
   "id": "398455bb",
   "metadata": {},
   "outputs": [],
   "source": [
    "bb1"
   ]
  },
  {
   "cell_type": "code",
   "execution_count": null,
   "id": "a46464ea",
   "metadata": {},
   "outputs": [],
   "source": [
    "bb.loc[:,['Title','Summary']]=bb1.loc[:,['Title','Summary']]"
   ]
  },
  {
   "cell_type": "code",
   "execution_count": null,
   "id": "72162538",
   "metadata": {},
   "outputs": [],
   "source": [
    "bb"
   ]
  },
  {
   "cell_type": "code",
   "execution_count": null,
   "id": "f3176b7d",
   "metadata": {},
   "outputs": [],
   "source": [
    "bb_s1=bb[bb['Season']==1]\n",
    "bb_s2=bb[bb['Season']==2]\n",
    "bb_s3=bb[bb['Season']==3]\n",
    "bb_s4=bb[bb['Season']==4]\n",
    "bb_s5=bb[bb['Season']==5]\n"
   ]
  },
  {
   "cell_type": "code",
   "execution_count": null,
   "id": "fc066fc2",
   "metadata": {},
   "outputs": [],
   "source": [
    "bb_s1"
   ]
  },
  {
   "cell_type": "code",
   "execution_count": null,
   "id": "21d9daf5",
   "metadata": {},
   "outputs": [],
   "source": [
    "bb_title_explo1=pd.DataFrame(bb_s1['Title'].explode())\n",
    "bb_title_explo1=bb_title_explo1[bb_title_explo1['Title'] !='']\n",
    "bb_title_explo1=bb_title_explo1[bb_title_explo1['Title'] !='s']\n",
    "bb_title_explo1=pd.DataFrame(bb_title_explo1.groupby('Title')['Title'].count().sort_values(ascending=False))\n",
    "                                                                                           \n",
    "\n",
    "bb_title_explo2=pd.DataFrame(bb_s1['Title'].explode())\n",
    "bb_title_explo2=bb_title_explo2[bb_title_explo2['Title'] !='']\n",
    "bb_title_explo2=bb_title_explo2[bb_title_explo2['Title'] !='s']\n",
    "bb_title_explo2=pd.DataFrame(bb_title_explo2.groupby('Title')['Title'].count().sort_values(ascending=False))\n",
    "                                                                                           \n",
    "                             \n",
    "bb_title_explo3=pd.DataFrame(bb_s3['Title'].explode())\n",
    "bb_title_explo3=bb_title_explo3[bb_title_explo3['Title'] !='']\n",
    "bb_title_explo3=bb_title_explo3[bb_title_explo3['Title'] !='s']\n",
    "bb_title_explo3=pd.DataFrame(bb_title_explo3.groupby('Title')['Title'].count().sort_values(ascending=False))\n",
    "                                                                                           \n",
    "                             \n",
    "bb_title_explo4=pd.DataFrame(bb_s4['Title'].explode())\n",
    "bb_title_explo4=bb_title_explo4[bb_title_explo4['Title'] !='']\n",
    "bb_title_explo4=bb_title_explo4[bb_title_explo4['Title'] !='s']\n",
    "bb_title_explo4=pd.DataFrame(bb_title_explo4.groupby('Title')['Title'].count().sort_values(ascending=False))\n",
    "                                                                                   \n",
    "                             \n",
    "                             \n",
    "bb_title_explo5=pd.DataFrame(bb_s5['Title'].explode())\n",
    "bb_title_explo5=bb_title_explo5[bb_title_explo5['Title'] !='']\n",
    "bb_title_explo5=bb_title_explo5[bb_title_explo5['Title'] !='s']\n",
    "bb_title_explo5=pd.DataFrame(bb_title_explo5.groupby('Title')['Title'].count().sort_values(ascending=False))\n",
    "                                                                                         \n",
    "\n",
    "                             \n"
   ]
  },
  {
   "cell_type": "code",
   "execution_count": null,
   "id": "6562d7fe",
   "metadata": {},
   "outputs": [],
   "source": [
    "bb_title_explo1"
   ]
  },
  {
   "cell_type": "code",
   "execution_count": null,
   "id": "8f70cdc5",
   "metadata": {},
   "outputs": [],
   "source": [
    "from wordcloud import wordcloud"
   ]
  },
  {
   "cell_type": "code",
   "execution_count": null,
   "id": "9d27a4d2",
   "metadata": {},
   "outputs": [],
   "source": [
    "print(bb_title_explo1.index)\n",
    "print(bb_title_explo2.index)\n",
    "print(bb_title_explo3.index)\n",
    "print(bb_title_explo4.index)\n",
    "print(bb_title_explo5.index)"
   ]
  },
  {
   "cell_type": "code",
   "execution_count": null,
   "id": "2dd30b83",
   "metadata": {},
   "outputs": [],
   "source": [
    "word1=\"\"\"\"\n",
    "\n",
    "'bag', 'cancer', 'cat', 'crazy', 'deal', 'gray', 'handful', 'man',\n",
    "       'matter', 'noroughstufftype', 'nothin', 'pilot', 'river'\n",
    "\n",
    "\"\"\"\n",
    "\n",
    "word2=\"\"\"\n",
    "\n",
    "'bag', 'cancer', 'cat', 'crazy', 'deal', 'gray', 'handful', 'man',\n",
    "       'matter', 'noroughstufftype', 'nothin', 'pilot', 'river'\n",
    "       \n",
    "\"\"\"\n",
    "\n",
    "word3=\"\"\"\n",
    "\n",
    "'mã¡s', 'abiquiu', 'caballo', 'sin', 'see', 'one', 'nombre', 'minute',\n",
    "       'measures', 'measure', 'light', 'kafkaesque', 'ift', 'half', 'green',\n",
    "       'full', 'fly', 'sunset'\n",
    "       \n",
    "\"\"\"\n",
    "\n",
    "word4=\"\"\"\n",
    "\n",
    "'box', 'bug', 'thirtyeight', 'space', 'snub', 'shotgun', 'salud',\n",
    "       'problem', 'points', 'open', 'house', 'hermanos', 'face', 'end', 'dog',\n",
    "       'cutter', 'crawl', 'cornered', 'bullet', 'times'\n",
    "       \n",
    "\"\"\"\n",
    "\n",
    "\n",
    "word5=\"\"\"\n",
    "\n",
    "\n",
    "'blood', 'buried', 'state', 'say', 'rabid', 'pay', 'ozymandias', 'name',\n",
    "       'money', 'madrigal', 'live', 'hazard', 'granite', 'gliding', 'freight',\n",
    "       'free', 'fiftyone', 'felina', 'dog', 'die', 'dead', 'confessions',\n",
    "       'buyout', 'tohajiilee'\n",
    "       \n",
    "       \n",
    "\"\"\"\n",
    "\n",
    "\n",
    "\n",
    "\n",
    "\n",
    "\n"
   ]
  },
  {
   "cell_type": "code",
   "execution_count": null,
   "id": "9c545a92",
   "metadata": {},
   "outputs": [],
   "source": [
    "word1"
   ]
  },
  {
   "cell_type": "markdown",
   "id": "b55f3699",
   "metadata": {},
   "source": [
    "### Title Analysis"
   ]
  },
  {
   "cell_type": "code",
   "execution_count": null,
   "id": "380f0588",
   "metadata": {},
   "outputs": [],
   "source": [
    "from wordcloud import WordCloud"
   ]
  },
  {
   "cell_type": "markdown",
   "id": "6c546ac0",
   "metadata": {},
   "source": [
    "#### Season1"
   ]
  },
  {
   "cell_type": "code",
   "execution_count": null,
   "id": "5c3d1eff",
   "metadata": {},
   "outputs": [],
   "source": [
    "wc1=WordCloud(background_color='white',width=800,height=500)\n",
    "wc1.generate(word1)\n",
    "plt.imshow(wc1)\n",
    "plt.axis('off')"
   ]
  },
  {
   "cell_type": "markdown",
   "id": "de19588d",
   "metadata": {},
   "source": [
    "### Season2"
   ]
  },
  {
   "cell_type": "code",
   "execution_count": null,
   "id": "5498b918",
   "metadata": {},
   "outputs": [],
   "source": [
    "wc2=WordCloud(background_color='white',width=800,height=500)\n",
    "wc2.generate(word2)\n",
    "plt.imshow(wc2)\n",
    "plt.axis('off')"
   ]
  },
  {
   "cell_type": "markdown",
   "id": "e2b5e07e",
   "metadata": {},
   "source": [
    "#### Season3"
   ]
  },
  {
   "cell_type": "code",
   "execution_count": null,
   "id": "39b4005d",
   "metadata": {},
   "outputs": [],
   "source": [
    "wc3=WordCloud(background_color='white',width=800,height=500)\n",
    "wc3.generate(word3)\n",
    "plt.imshow(wc3)\n",
    "plt.axis('off')"
   ]
  },
  {
   "cell_type": "markdown",
   "id": "60507d7f",
   "metadata": {},
   "source": [
    "#### Season4"
   ]
  },
  {
   "cell_type": "code",
   "execution_count": null,
   "id": "d45dec44",
   "metadata": {},
   "outputs": [],
   "source": [
    "wc4=WordCloud(background_color='white',width=800,height=500)\n",
    "wc4.generate(word4)\n",
    "plt.imshow(wc4)\n",
    "plt.axis('off')"
   ]
  },
  {
   "cell_type": "markdown",
   "id": "1441ff29",
   "metadata": {},
   "source": [
    "#### Season5"
   ]
  },
  {
   "cell_type": "code",
   "execution_count": null,
   "id": "3b6e383e",
   "metadata": {},
   "outputs": [],
   "source": [
    "wc5=WordCloud(background_color='white',width=800,height=500)\n",
    "wc5.generate(word5)\n",
    "plt.imshow(wc5)\n",
    "plt.axis('off')"
   ]
  },
  {
   "cell_type": "code",
   "execution_count": null,
   "id": "f8556dbb",
   "metadata": {},
   "outputs": [],
   "source": [
    "bb_summary_explo1=pd.DataFrame(bb_s1['Summary'].explode())\n",
    "bb_summary_explo1=bb_summary_explo1[bb_summary_explo1['Summary'] !='']\n",
    "bb_summary_explo1=bb_summary_explo1[bb_summary_explo1['Summary'] !='s']\n",
    "bb_summary_explo1=pd.DataFrame(bb_summary_explo1.groupby('Summary')['Summary'].count().sort_values(ascending=False))\n",
    "bb_summary_explo1=bb_summary_explo1.rename(columns={'Summary':'nun'})\n",
    "\n",
    "\n",
    "bb_summary_explo2=pd.DataFrame(bb_s2['Summary'].explode())\n",
    "bb_summary_explo2=bb_summary_explo2[bb_summary_explo2['Summary'] !='']\n",
    "bb_summary_explo2=bb_summary_explo2[bb_summary_explo2['Summary'] !='s']\n",
    "bb_summary_explo2=pd.DataFrame(bb_summary_explo2.groupby('Summary')['Summary'].count().sort_values(ascending=False))\n",
    "bb_summary_explo2=bb_summary_explo2.rename(columns={'Summary':'nun'})\n",
    "\n",
    "\n",
    "bb_summary_explo3=pd.DataFrame(bb_s3['Summary'].explode())\n",
    "bb_summary_explo3=bb_summary_explo3[bb_summary_explo3['Summary'] !='']\n",
    "bb_summary_explo3=bb_summary_explo3[bb_summary_explo3['Summary'] !='s']\n",
    "bb_summary_explo3=pd.DataFrame(bb_summary_explo3.groupby('Summary')['Summary'].count().sort_values(ascending=False))\n",
    "bb_summary_explo3=bb_summary_explo3.rename(columns={'Summary':'nun'})\n",
    "\n",
    "\n",
    "bb_summary_explo4=pd.DataFrame(bb_s4['Summary'].explode())\n",
    "bb_summary_explo4=bb_summary_explo4[bb_summary_explo4['Summary'] !='']\n",
    "bb_summary_explo4=bb_summary_explo4[bb_summary_explo4['Summary'] !='s']\n",
    "bb_summary_explo4=pd.DataFrame(bb_summary_explo4.groupby('Summary')['Summary'].count().sort_values(ascending=False))\n",
    "bb_summary_explo4=bb_summary_explo4.rename(columns={'Summary':'nun'}) \n",
    "    \n",
    "    \n",
    "    \n",
    "bb_summary_explo5=pd.DataFrame(bb_s5['Summary'].explode())\n",
    "bb_summary_explo5=bb_summary_explo5[bb_summary_explo5['Summary'] !='']\n",
    "bb_summary_explo5=bb_summary_explo5[bb_summary_explo5['Summary'] !='s']\n",
    "bb_summary_explo5=pd.DataFrame(bb_summary_explo5.groupby('Summary')['Summary'].count().sort_values(ascending=False))\n",
    "bb_summary_explo5=bb_summary_explo5.rename(columns={'Summary':'nun'})    \n",
    "                             "
   ]
  },
  {
   "cell_type": "markdown",
   "id": "ae57b57e",
   "metadata": {},
   "source": [
    "## Words in Summary"
   ]
  },
  {
   "cell_type": "markdown",
   "id": "27aec280",
   "metadata": {},
   "source": [
    "### Season1\n",
    "\n"
   ]
  },
  {
   "cell_type": "code",
   "execution_count": null,
   "id": "f9e55b3a",
   "metadata": {},
   "outputs": [],
   "source": [
    "x=bb_summary_explo1['nun']\n",
    "label=bb_summary_explo1.index\n",
    "squarify.plot(x,label=label,color=sns.color_palette('husl'))\n",
    "plt.axis('off')\n",
    "plt.show()"
   ]
  },
  {
   "cell_type": "markdown",
   "id": "9b8474c7",
   "metadata": {},
   "source": [
    "### Season2"
   ]
  },
  {
   "cell_type": "code",
   "execution_count": null,
   "id": "ff5c5c34",
   "metadata": {},
   "outputs": [],
   "source": [
    "x=bb_summary_explo2['nun']\n",
    "label=bb_summary_explo2.index\n",
    "squarify.plot(x,label=label,color=sns.color_palette('husl'))\n",
    "plt.axis('off')\n",
    "plt.show()"
   ]
  },
  {
   "cell_type": "markdown",
   "id": "49acef54",
   "metadata": {},
   "source": [
    "### Season3"
   ]
  },
  {
   "cell_type": "code",
   "execution_count": null,
   "id": "4e7a57b5",
   "metadata": {},
   "outputs": [],
   "source": [
    "x=bb_summary_explo3['nun']\n",
    "label=bb_summary_explo3.index\n",
    "squarify.plot(x,label=label,color=sns.color_palette('husl'))\n",
    "plt.axis('off')\n",
    "plt.show()"
   ]
  },
  {
   "cell_type": "markdown",
   "id": "18357262",
   "metadata": {},
   "source": [
    "### Season4"
   ]
  },
  {
   "cell_type": "code",
   "execution_count": null,
   "id": "a0be902b",
   "metadata": {},
   "outputs": [],
   "source": [
    "x=bb_summary_explo4['nun']\n",
    "label=bb_summary_explo4.index\n",
    "squarify.plot(x,label=label,color=sns.color_palette('husl'))\n",
    "plt.axis('off')\n",
    "plt.show()"
   ]
  },
  {
   "cell_type": "markdown",
   "id": "68c8be26",
   "metadata": {},
   "source": [
    "### Season5"
   ]
  },
  {
   "cell_type": "code",
   "execution_count": null,
   "id": "567ed57a",
   "metadata": {},
   "outputs": [],
   "source": [
    "x=bb_summary_explo5['nun']\n",
    "label=bb_summary_explo5.index\n",
    "squarify.plot(x,label=label,color=sns.color_palette('husl'))\n",
    "plt.axis('off')\n",
    "plt.show()"
   ]
  },
  {
   "cell_type": "code",
   "execution_count": null,
   "id": "eee54b0a",
   "metadata": {},
   "outputs": [],
   "source": []
  }
 ],
 "metadata": {
  "kernelspec": {
   "display_name": "Python 3 (ipykernel)",
   "language": "python",
   "name": "python3"
  },
  "language_info": {
   "codemirror_mode": {
    "name": "ipython",
    "version": 3
   },
   "file_extension": ".py",
   "mimetype": "text/x-python",
   "name": "python",
   "nbconvert_exporter": "python",
   "pygments_lexer": "ipython3",
   "version": "3.9.7"
  }
 },
 "nbformat": 4,
 "nbformat_minor": 5
}
