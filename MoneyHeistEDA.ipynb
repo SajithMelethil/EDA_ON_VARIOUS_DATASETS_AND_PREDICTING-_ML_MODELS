{
 "cells": [
  {
   "cell_type": "code",
   "execution_count": null,
   "id": "9e56961f",
   "metadata": {},
   "outputs": [],
   "source": [
    "import pandas as pd\n",
    "import numpy as np\n",
    "import matplotlib.pyplot as plt\n",
    "import seaborn as sns\n",
    "import plotly as plot\n"
   ]
  },
  {
   "cell_type": "code",
   "execution_count": null,
   "id": "475c25a5",
   "metadata": {},
   "outputs": [],
   "source": [
    "from PIL import Image"
   ]
  },
  {
   "cell_type": "code",
   "execution_count": null,
   "id": "19b3bb91",
   "metadata": {},
   "outputs": [],
   "source": [
    "im=Image.open('HEIST.PNG')"
   ]
  },
  {
   "cell_type": "code",
   "execution_count": null,
   "id": "4b30d39b",
   "metadata": {},
   "outputs": [],
   "source": [
    "im\n"
   ]
  },
  {
   "cell_type": "code",
   "execution_count": null,
   "id": "859122bc",
   "metadata": {},
   "outputs": [],
   "source": [
    "from IPython.display import Image\n",
    "Image(filename='HEIST.png',width=500,height=400)"
   ]
  },
  {
   "cell_type": "code",
   "execution_count": null,
   "id": "8ec0795f",
   "metadata": {},
   "outputs": [],
   "source": [
    "heist=pd.read_csv('money heist - all seasons.csv',engine='python',encoding='latin-1')"
   ]
  },
  {
   "cell_type": "code",
   "execution_count": null,
   "id": "e9b63a57",
   "metadata": {},
   "outputs": [],
   "source": [
    "heist.head()"
   ]
  },
  {
   "cell_type": "code",
   "execution_count": null,
   "id": "45547f54",
   "metadata": {},
   "outputs": [],
   "source": [
    "heist.columns"
   ]
  },
  {
   "cell_type": "code",
   "execution_count": null,
   "id": "e19659c7",
   "metadata": {},
   "outputs": [],
   "source": [
    "heist.shape"
   ]
  },
  {
   "cell_type": "code",
   "execution_count": null,
   "id": "e010209f",
   "metadata": {},
   "outputs": [],
   "source": [
    "heist.tail(10)"
   ]
  },
  {
   "cell_type": "code",
   "execution_count": null,
   "id": "66a6f5af",
   "metadata": {},
   "outputs": [],
   "source": [
    "heist['Summary'][0]"
   ]
  },
  {
   "cell_type": "code",
   "execution_count": null,
   "id": "cf496551",
   "metadata": {},
   "outputs": [],
   "source": [
    "heist.isnull().sum()"
   ]
  },
  {
   "cell_type": "code",
   "execution_count": null,
   "id": "bf724cd0",
   "metadata": {},
   "outputs": [],
   "source": [
    "heist.info()"
   ]
  },
  {
   "cell_type": "code",
   "execution_count": null,
   "id": "e64d772f",
   "metadata": {},
   "outputs": [],
   "source": [
    "heist.iloc[:,6:7].plot.hist()"
   ]
  },
  {
   "cell_type": "code",
   "execution_count": null,
   "id": "ffaa32f7",
   "metadata": {},
   "outputs": [],
   "source": [
    "heist['IMDB'].plot.box()"
   ]
  },
  {
   "cell_type": "code",
   "execution_count": null,
   "id": "48f87f8b",
   "metadata": {},
   "outputs": [],
   "source": [
    "maxr=heist[heist['IMDB']==9.5]\n",
    "maxr"
   ]
  },
  {
   "cell_type": "code",
   "execution_count": null,
   "id": "ee3dff34",
   "metadata": {},
   "outputs": [],
   "source": [
    "maxr=heist[heist['IMDB']==7.1]\n",
    "maxr"
   ]
  },
  {
   "cell_type": "code",
   "execution_count": null,
   "id": "3c75f14d",
   "metadata": {},
   "outputs": [],
   "source": [
    "heist.describe().T"
   ]
  },
  {
   "cell_type": "code",
   "execution_count": null,
   "id": "e1b1e7b6",
   "metadata": {},
   "outputs": [],
   "source": [
    "heist['Season '].unique().tolist()"
   ]
  },
  {
   "cell_type": "code",
   "execution_count": null,
   "id": "5d8ff243",
   "metadata": {},
   "outputs": [],
   "source": [
    "df1=heist.groupby('Season ').count().iloc[:,0:1]\n",
    "df1"
   ]
  },
  {
   "cell_type": "code",
   "execution_count": null,
   "id": "d5e29815",
   "metadata": {},
   "outputs": [],
   "source": [
    "df1.plot(kind='barh',color='red',title='season with highest number of episodes')\n",
    "plt.show()"
   ]
  },
  {
   "cell_type": "code",
   "execution_count": null,
   "id": "2ce83655",
   "metadata": {},
   "outputs": [],
   "source": [
    "heist.columns"
   ]
  },
  {
   "cell_type": "code",
   "execution_count": null,
   "id": "00c1b7c2",
   "metadata": {},
   "outputs": [],
   "source": [
    "sns.countplot(x='Year',data=heist,palette='rainbow',hue='Year')\n",
    "plt.title('highest number of episdes')\n",
    "\n",
    "plt.show()"
   ]
  },
  {
   "cell_type": "code",
   "execution_count": null,
   "id": "8ba223a9",
   "metadata": {},
   "outputs": [],
   "source": [
    "heist.head(20)"
   ]
  },
  {
   "cell_type": "code",
   "execution_count": null,
   "id": "c3a99e23",
   "metadata": {},
   "outputs": [],
   "source": [
    "plt.figure(figsize=(10,8))\n",
    "sns.barplot(x='Name',y='Watch Time (minutes)',data=heist.sort_values('Watch Time (minutes)',ascending=True),hue='Year',alpha=1)\n",
    "plt.title('Episodes with highest runtime ')\n",
    "plt.xticks(rotation=90)\n",
    "plt.show()\n"
   ]
  },
  {
   "cell_type": "code",
   "execution_count": null,
   "id": "a2073675",
   "metadata": {},
   "outputs": [],
   "source": [
    "plt.figure(figsize=(12,8))\n",
    "sns.categorical.barplot(x='Name',y='IMDB',data=heist.sort_values('IMDB',ascending=True),hue='Year',alpha=1,palette='Accent')\n",
    "plt.xticks(rotation=90)\n",
    "plt.title('Episodes with highets IMDB rating')\n",
    "plt.show()"
   ]
  },
  {
   "cell_type": "code",
   "execution_count": null,
   "id": "bb147b16",
   "metadata": {},
   "outputs": [],
   "source": [
    "heist.columns"
   ]
  },
  {
   "cell_type": "code",
   "execution_count": null,
   "id": "fb55b623",
   "metadata": {},
   "outputs": [],
   "source": [
    "sns.boxplot(x='Year',y='Watch Time (minutes)',data=heist,palette='seismic',hue='Season ')\n",
    "plt.title('watchtime over the years')\n",
    "plt.show()"
   ]
  },
  {
   "cell_type": "code",
   "execution_count": null,
   "id": "d3409b15",
   "metadata": {},
   "outputs": [],
   "source": [
    "heist.head()"
   ]
  },
  {
   "cell_type": "code",
   "execution_count": null,
   "id": "60250321",
   "metadata": {},
   "outputs": [],
   "source": [
    "sns.boxplot(x='Year',y='IMDB',data=heist,palette='seismic',hue='Season ')\n",
    "plt.title('IMDB rating of episodes over the years')\n",
    "plt.show()"
   ]
  },
  {
   "cell_type": "code",
   "execution_count": null,
   "id": "9cabfbe9",
   "metadata": {},
   "outputs": [],
   "source": [
    "heist[['Season ','IMDB','Watch Time (minutes)']].groupby('Season ').mean()"
   ]
  },
  {
   "cell_type": "code",
   "execution_count": null,
   "id": "e7e15417",
   "metadata": {},
   "outputs": [],
   "source": [
    "heist[['Season ','Watch Time (minutes)']].groupby('Season ').sum()['Watch Time (minutes)'].rename('Watch time sum')"
   ]
  },
  {
   "cell_type": "code",
   "execution_count": null,
   "id": "df4d83ed",
   "metadata": {},
   "outputs": [],
   "source": [
    "data=pd.DataFrame({'Watch time sum':heist[['Season ','Watch Time (minutes)']].groupby('Season ').sum()['Watch Time (minutes)'].rename('Watch time sum').values},index=[1,2,3,4,5])\n",
    "data"
   ]
  },
  {
   "cell_type": "code",
   "execution_count": null,
   "id": "8c231fbe",
   "metadata": {},
   "outputs": [],
   "source": [
    "heist.columns"
   ]
  },
  {
   "cell_type": "code",
   "execution_count": null,
   "id": "3b01a791",
   "metadata": {},
   "outputs": [],
   "source": [
    "df=heist[['Year','IMDB','Watch Time (minutes)']]\n",
    "df.head()"
   ]
  },
  {
   "cell_type": "code",
   "execution_count": null,
   "id": "66a17ed1",
   "metadata": {},
   "outputs": [],
   "source": [
    "df1=df.groupby('Year').mean()\n",
    "df1"
   ]
  },
  {
   "cell_type": "code",
   "execution_count": null,
   "id": "31c2040c",
   "metadata": {},
   "outputs": [],
   "source": [
    "df1['Mean of Watchtime']=df1['Watch Time (minutes)']\n",
    "df1\n"
   ]
  },
  {
   "cell_type": "code",
   "execution_count": null,
   "id": "d426bb4a",
   "metadata": {},
   "outputs": [],
   "source": [
    "df1=df1.drop(['Watch Time (minutes)'],axis=1)\n",
    "df1"
   ]
  },
  {
   "cell_type": "code",
   "execution_count": null,
   "id": "e4ff32e7",
   "metadata": {},
   "outputs": [],
   "source": [
    "df2=df.drop(['IMDB'],axis=1)\n",
    "df2.head(10)"
   ]
  },
  {
   "cell_type": "code",
   "execution_count": null,
   "id": "13524617",
   "metadata": {},
   "outputs": [],
   "source": [
    "df2=df2.groupby('Year').sum()\n",
    "df2"
   ]
  },
  {
   "cell_type": "code",
   "execution_count": null,
   "id": "41a173cb",
   "metadata": {},
   "outputs": [],
   "source": [
    "df2=pd.DataFrame({'sum of watchtime':list(df2['Watch Time (minutes)'].rename('Sum of Watchtime').values)},index=[2017,2019,2020,2021])\n",
    "df2"
   ]
  },
  {
   "cell_type": "code",
   "execution_count": null,
   "id": "1475dddf",
   "metadata": {},
   "outputs": [],
   "source": [
    "df3=pd.concat([df1,df2],axis=1)\n",
    "df3"
   ]
  },
  {
   "cell_type": "code",
   "execution_count": null,
   "id": "12a05ea0",
   "metadata": {},
   "outputs": [],
   "source": [
    "df3.style.highlight_max(color='orange')"
   ]
  },
  {
   "cell_type": "code",
   "execution_count": null,
   "id": "56d57117",
   "metadata": {},
   "outputs": [],
   "source": [
    "df3.style.highlight_min(color='orange')"
   ]
  },
  {
   "cell_type": "code",
   "execution_count": null,
   "id": "fe16aa5e",
   "metadata": {},
   "outputs": [],
   "source": [
    "heist.columns"
   ]
  },
  {
   "cell_type": "code",
   "execution_count": null,
   "id": "f86263cf",
   "metadata": {},
   "outputs": [],
   "source": [
    "sns.heatmap(heist[['Year','Watch Time (minutes)','IMDB']].corr(),annot=True,vmin=1)\n",
    "plt.title('correlation between time,year,rating')\n",
    "plt.show()"
   ]
  },
  {
   "cell_type": "code",
   "execution_count": null,
   "id": "340b81c2",
   "metadata": {},
   "outputs": [],
   "source": [
    "sns.pointplot(x='Year',y='IMDB',data=heist,linestyles='dashed',color='k')\n",
    "plt.title('Average IMDB rating over the years')\n",
    "plt.show()"
   ]
  },
  {
   "cell_type": "code",
   "execution_count": null,
   "id": "aed2c961",
   "metadata": {},
   "outputs": [],
   "source": [
    "heist.head(10)\n"
   ]
  },
  {
   "cell_type": "code",
   "execution_count": null,
   "id": "9c71f2bb",
   "metadata": {},
   "outputs": [],
   "source": [
    "###to check on which day aired show got more runtime\n",
    "\n",
    "\n",
    "\n",
    "ex_df=heist[['On Air','IMDB','Watch Time (minutes)']]\n",
    "for i in ex_df.columns.tolist()[1:]:\n",
    "    ex_df.sort_values(i,ascending=False).head().plot(x='On Air',y=i,kind='bar',color='purple')\n",
    "    "
   ]
  },
  {
   "cell_type": "code",
   "execution_count": null,
   "id": "03d110ba",
   "metadata": {},
   "outputs": [],
   "source": [
    "import plotly.express as px\n"
   ]
  },
  {
   "cell_type": "code",
   "execution_count": null,
   "id": "61ded93f",
   "metadata": {},
   "outputs": [],
   "source": [
    "heist"
   ]
  },
  {
   "cell_type": "code",
   "execution_count": null,
   "id": "40e55032",
   "metadata": {},
   "outputs": [],
   "source": [
    "df4=pd.DataFrame([\n",
    "    dict(Task='Season1',Start='2017-5-2',Finish='2017-6-27',completion_act=25),\n",
    "    dict(Task='Season2',Start='2017-10-16',Finish='2017-11-23',completion_act=25),\n",
    "    dict(Task='Season3',Start='2019-7-19',Finish='2019-7-19',completion_act=25),\n",
    "    dict(Task='Season4',Start='2020-4-3',Finish='2020-4-3',completion_act=25),\n",
    "    dict(Task='Season5',Start='2021-9-3',Finish='2021-9-3',completion_act=25)\n",
    "    \n",
    "    \n",
    "\n",
    "    \n",
    "    \n",
    "])\n",
    "\n",
    "\n",
    "fig=px.timeline(df4,x_start='Start',x_end='Finish',y='Task')\n",
    "fig.update_yaxes(autorange='reversed')\n",
    "fig.show()"
   ]
  },
  {
   "cell_type": "code",
   "execution_count": null,
   "id": "145edbdf",
   "metadata": {},
   "outputs": [],
   "source": [
    "#### season3,4,5 aired on same day thats y no details for them on above graph"
   ]
  },
  {
   "cell_type": "code",
   "execution_count": null,
   "id": "debfce7a",
   "metadata": {},
   "outputs": [],
   "source": []
  }
 ],
 "metadata": {
  "kernelspec": {
   "display_name": "Python 3 (ipykernel)",
   "language": "python",
   "name": "python3"
  },
  "language_info": {
   "codemirror_mode": {
    "name": "ipython",
    "version": 3
   },
   "file_extension": ".py",
   "mimetype": "text/x-python",
   "name": "python",
   "nbconvert_exporter": "python",
   "pygments_lexer": "ipython3",
   "version": "3.9.7"
  }
 },
 "nbformat": 4,
 "nbformat_minor": 5
}
