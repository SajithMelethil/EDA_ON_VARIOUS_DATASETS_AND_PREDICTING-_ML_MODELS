{
 "cells": [
  {
   "cell_type": "code",
   "execution_count": 1,
   "id": "1373acc4",
   "metadata": {},
   "outputs": [],
   "source": [
    "import pandas as pd\n",
    "import numpy as np\n",
    "import seaborn as sns\n",
    "import matplotlib.pyplot as plt\n",
    "sns.set()\n"
   ]
  },
  {
   "cell_type": "code",
   "execution_count": 2,
   "id": "7367768f",
   "metadata": {},
   "outputs": [],
   "source": [
    "###data reading"
   ]
  },
  {
   "cell_type": "code",
   "execution_count": 3,
   "id": "5b8baca9",
   "metadata": {},
   "outputs": [],
   "source": [
    "udemy=pd.read_csv('udemy_output_All_Finance__Accounting_p1_p626.csv')"
   ]
  },
  {
   "cell_type": "code",
   "execution_count": 4,
   "id": "53aa5e7b",
   "metadata": {},
   "outputs": [
    {
     "data": {
      "text/html": [
       "<div>\n",
       "<style scoped>\n",
       "    .dataframe tbody tr th:only-of-type {\n",
       "        vertical-align: middle;\n",
       "    }\n",
       "\n",
       "    .dataframe tbody tr th {\n",
       "        vertical-align: top;\n",
       "    }\n",
       "\n",
       "    .dataframe thead th {\n",
       "        text-align: right;\n",
       "    }\n",
       "</style>\n",
       "<table border=\"1\" class=\"dataframe\">\n",
       "  <thead>\n",
       "    <tr style=\"text-align: right;\">\n",
       "      <th></th>\n",
       "      <th>id</th>\n",
       "      <th>title</th>\n",
       "      <th>url</th>\n",
       "      <th>is_paid</th>\n",
       "      <th>num_subscribers</th>\n",
       "      <th>avg_rating</th>\n",
       "      <th>avg_rating_recent</th>\n",
       "      <th>rating</th>\n",
       "      <th>num_reviews</th>\n",
       "      <th>is_wishlisted</th>\n",
       "      <th>num_published_lectures</th>\n",
       "      <th>num_published_practice_tests</th>\n",
       "      <th>created</th>\n",
       "      <th>published_time</th>\n",
       "      <th>discount_price__amount</th>\n",
       "      <th>discount_price__currency</th>\n",
       "      <th>discount_price__price_string</th>\n",
       "      <th>price_detail__amount</th>\n",
       "      <th>price_detail__currency</th>\n",
       "      <th>price_detail__price_string</th>\n",
       "    </tr>\n",
       "  </thead>\n",
       "  <tbody>\n",
       "    <tr>\n",
       "      <th>0</th>\n",
       "      <td>762616</td>\n",
       "      <td>The Complete SQL Bootcamp 2020: Go from Zero t...</td>\n",
       "      <td>/course/the-complete-sql-bootcamp/</td>\n",
       "      <td>True</td>\n",
       "      <td>295509</td>\n",
       "      <td>4.66019</td>\n",
       "      <td>4.67874</td>\n",
       "      <td>4.67874</td>\n",
       "      <td>78006</td>\n",
       "      <td>False</td>\n",
       "      <td>84</td>\n",
       "      <td>0</td>\n",
       "      <td>2016-02-14T22:57:48Z</td>\n",
       "      <td>2016-04-06T05:16:11Z</td>\n",
       "      <td>455.0</td>\n",
       "      <td>INR</td>\n",
       "      <td>â‚¹455</td>\n",
       "      <td>8640.0</td>\n",
       "      <td>INR</td>\n",
       "      <td>â‚¹8,640</td>\n",
       "    </tr>\n",
       "    <tr>\n",
       "      <th>1</th>\n",
       "      <td>937678</td>\n",
       "      <td>Tableau 2020 A-Z: Hands-On Tableau Training fo...</td>\n",
       "      <td>/course/tableau10/</td>\n",
       "      <td>True</td>\n",
       "      <td>209070</td>\n",
       "      <td>4.58956</td>\n",
       "      <td>4.60015</td>\n",
       "      <td>4.60015</td>\n",
       "      <td>54581</td>\n",
       "      <td>False</td>\n",
       "      <td>78</td>\n",
       "      <td>0</td>\n",
       "      <td>2016-08-22T12:10:18Z</td>\n",
       "      <td>2016-08-23T16:59:49Z</td>\n",
       "      <td>455.0</td>\n",
       "      <td>INR</td>\n",
       "      <td>â‚¹455</td>\n",
       "      <td>8640.0</td>\n",
       "      <td>INR</td>\n",
       "      <td>â‚¹8,640</td>\n",
       "    </tr>\n",
       "    <tr>\n",
       "      <th>2</th>\n",
       "      <td>1361790</td>\n",
       "      <td>PMP Exam Prep Seminar -  PMBOK Guide 6</td>\n",
       "      <td>/course/pmp-pmbok6-35-pdus/</td>\n",
       "      <td>True</td>\n",
       "      <td>155282</td>\n",
       "      <td>4.59491</td>\n",
       "      <td>4.59326</td>\n",
       "      <td>4.59326</td>\n",
       "      <td>52653</td>\n",
       "      <td>False</td>\n",
       "      <td>292</td>\n",
       "      <td>2</td>\n",
       "      <td>2017-09-26T16:32:48Z</td>\n",
       "      <td>2017-11-14T23:58:14Z</td>\n",
       "      <td>455.0</td>\n",
       "      <td>INR</td>\n",
       "      <td>â‚¹455</td>\n",
       "      <td>8640.0</td>\n",
       "      <td>INR</td>\n",
       "      <td>â‚¹8,640</td>\n",
       "    </tr>\n",
       "    <tr>\n",
       "      <th>3</th>\n",
       "      <td>648826</td>\n",
       "      <td>The Complete Financial Analyst Course 2020</td>\n",
       "      <td>/course/the-complete-financial-analyst-course/</td>\n",
       "      <td>True</td>\n",
       "      <td>245860</td>\n",
       "      <td>4.54407</td>\n",
       "      <td>4.53772</td>\n",
       "      <td>4.53772</td>\n",
       "      <td>46447</td>\n",
       "      <td>False</td>\n",
       "      <td>338</td>\n",
       "      <td>0</td>\n",
       "      <td>2015-10-23T13:34:35Z</td>\n",
       "      <td>2016-01-21T01:38:48Z</td>\n",
       "      <td>455.0</td>\n",
       "      <td>INR</td>\n",
       "      <td>â‚¹455</td>\n",
       "      <td>8640.0</td>\n",
       "      <td>INR</td>\n",
       "      <td>â‚¹8,640</td>\n",
       "    </tr>\n",
       "    <tr>\n",
       "      <th>4</th>\n",
       "      <td>637930</td>\n",
       "      <td>An Entire MBA in 1 Course:Award Winning Busine...</td>\n",
       "      <td>/course/an-entire-mba-in-1-courseaward-winning...</td>\n",
       "      <td>True</td>\n",
       "      <td>374836</td>\n",
       "      <td>4.47080</td>\n",
       "      <td>4.47173</td>\n",
       "      <td>4.47173</td>\n",
       "      <td>41630</td>\n",
       "      <td>False</td>\n",
       "      <td>83</td>\n",
       "      <td>0</td>\n",
       "      <td>2015-10-12T06:39:46Z</td>\n",
       "      <td>2016-01-11T21:39:33Z</td>\n",
       "      <td>455.0</td>\n",
       "      <td>INR</td>\n",
       "      <td>â‚¹455</td>\n",
       "      <td>8640.0</td>\n",
       "      <td>INR</td>\n",
       "      <td>â‚¹8,640</td>\n",
       "    </tr>\n",
       "    <tr>\n",
       "      <th>...</th>\n",
       "      <td>...</td>\n",
       "      <td>...</td>\n",
       "      <td>...</td>\n",
       "      <td>...</td>\n",
       "      <td>...</td>\n",
       "      <td>...</td>\n",
       "      <td>...</td>\n",
       "      <td>...</td>\n",
       "      <td>...</td>\n",
       "      <td>...</td>\n",
       "      <td>...</td>\n",
       "      <td>...</td>\n",
       "      <td>...</td>\n",
       "      <td>...</td>\n",
       "      <td>...</td>\n",
       "      <td>...</td>\n",
       "      <td>...</td>\n",
       "      <td>...</td>\n",
       "      <td>...</td>\n",
       "      <td>...</td>\n",
       "    </tr>\n",
       "    <tr>\n",
       "      <th>13603</th>\n",
       "      <td>3005408</td>\n",
       "      <td>×ž×•×©×’×™× ×‘×¡×™×¡×™×™× ×‘××•×¤×¦×™×•×ª ×...</td>\n",
       "      <td>/course/1-ndgzhu/</td>\n",
       "      <td>False</td>\n",
       "      <td>47</td>\n",
       "      <td>0.00000</td>\n",
       "      <td>0.00000</td>\n",
       "      <td>0.00000</td>\n",
       "      <td>0</td>\n",
       "      <td>False</td>\n",
       "      <td>6</td>\n",
       "      <td>0</td>\n",
       "      <td>2020-04-15T10:20:17Z</td>\n",
       "      <td>2020-04-23T02:06:55Z</td>\n",
       "      <td>NaN</td>\n",
       "      <td>NaN</td>\n",
       "      <td>NaN</td>\n",
       "      <td>NaN</td>\n",
       "      <td>NaN</td>\n",
       "      <td>NaN</td>\n",
       "    </tr>\n",
       "    <tr>\n",
       "      <th>13604</th>\n",
       "      <td>3467284</td>\n",
       "      <td>Programa de Integridade</td>\n",
       "      <td>/course/iaudit_programa_de_integridade/</td>\n",
       "      <td>False</td>\n",
       "      <td>19</td>\n",
       "      <td>0.00000</td>\n",
       "      <td>0.00000</td>\n",
       "      <td>0.00000</td>\n",
       "      <td>0</td>\n",
       "      <td>False</td>\n",
       "      <td>5</td>\n",
       "      <td>0</td>\n",
       "      <td>2020-09-01T17:57:15Z</td>\n",
       "      <td>2020-09-03T15:26:47Z</td>\n",
       "      <td>NaN</td>\n",
       "      <td>NaN</td>\n",
       "      <td>NaN</td>\n",
       "      <td>NaN</td>\n",
       "      <td>NaN</td>\n",
       "      <td>NaN</td>\n",
       "    </tr>\n",
       "    <tr>\n",
       "      <th>13605</th>\n",
       "      <td>3368222</td>\n",
       "      <td>Goodwill and Method of Calculating Goodwill (A...</td>\n",
       "      <td>/course/goodwill-and-method-of-calculating-goo...</td>\n",
       "      <td>False</td>\n",
       "      <td>47</td>\n",
       "      <td>0.00000</td>\n",
       "      <td>0.00000</td>\n",
       "      <td>0.00000</td>\n",
       "      <td>0</td>\n",
       "      <td>False</td>\n",
       "      <td>5</td>\n",
       "      <td>0</td>\n",
       "      <td>2020-07-27T02:29:18Z</td>\n",
       "      <td>2020-07-31T12:14:40Z</td>\n",
       "      <td>NaN</td>\n",
       "      <td>NaN</td>\n",
       "      <td>NaN</td>\n",
       "      <td>NaN</td>\n",
       "      <td>NaN</td>\n",
       "      <td>NaN</td>\n",
       "    </tr>\n",
       "    <tr>\n",
       "      <th>13606</th>\n",
       "      <td>3211345</td>\n",
       "      <td>Poderoso Investidor</td>\n",
       "      <td>/course/poderoso-investidor/</td>\n",
       "      <td>False</td>\n",
       "      <td>48</td>\n",
       "      <td>0.00000</td>\n",
       "      <td>0.00000</td>\n",
       "      <td>0.00000</td>\n",
       "      <td>0</td>\n",
       "      <td>False</td>\n",
       "      <td>13</td>\n",
       "      <td>0</td>\n",
       "      <td>2020-06-07T01:29:53Z</td>\n",
       "      <td>2020-07-15T10:35:38Z</td>\n",
       "      <td>NaN</td>\n",
       "      <td>NaN</td>\n",
       "      <td>NaN</td>\n",
       "      <td>NaN</td>\n",
       "      <td>NaN</td>\n",
       "      <td>NaN</td>\n",
       "    </tr>\n",
       "    <tr>\n",
       "      <th>13607</th>\n",
       "      <td>2935720</td>\n",
       "      <td>Acabou a PrevidÃªncia e agora? -  Volume 03</td>\n",
       "      <td>/course/acabou-a-previdencia-e-agora-volume-03/</td>\n",
       "      <td>True</td>\n",
       "      <td>0</td>\n",
       "      <td>0.00000</td>\n",
       "      <td>0.00000</td>\n",
       "      <td>0.00000</td>\n",
       "      <td>0</td>\n",
       "      <td>False</td>\n",
       "      <td>14</td>\n",
       "      <td>0</td>\n",
       "      <td>2020-03-30T19:10:58Z</td>\n",
       "      <td>2020-04-02T16:33:32Z</td>\n",
       "      <td>NaN</td>\n",
       "      <td>NaN</td>\n",
       "      <td>NaN</td>\n",
       "      <td>NaN</td>\n",
       "      <td>NaN</td>\n",
       "      <td>NaN</td>\n",
       "    </tr>\n",
       "  </tbody>\n",
       "</table>\n",
       "<p>13608 rows × 20 columns</p>\n",
       "</div>"
      ],
      "text/plain": [
       "            id                                              title  \\\n",
       "0       762616  The Complete SQL Bootcamp 2020: Go from Zero t...   \n",
       "1       937678  Tableau 2020 A-Z: Hands-On Tableau Training fo...   \n",
       "2      1361790             PMP Exam Prep Seminar -  PMBOK Guide 6   \n",
       "3       648826         The Complete Financial Analyst Course 2020   \n",
       "4       637930  An Entire MBA in 1 Course:Award Winning Busine...   \n",
       "...        ...                                                ...   \n",
       "13603  3005408  ×ž×•×©×’×™× ×‘×¡×™×¡×™×™× ×‘××•×¤×¦×™×•×ª ×...   \n",
       "13604  3467284                            Programa de Integridade   \n",
       "13605  3368222  Goodwill and Method of Calculating Goodwill (A...   \n",
       "13606  3211345                                Poderoso Investidor   \n",
       "13607  2935720        Acabou a PrevidÃªncia e agora? -  Volume 03   \n",
       "\n",
       "                                                     url  is_paid  \\\n",
       "0                     /course/the-complete-sql-bootcamp/     True   \n",
       "1                                     /course/tableau10/     True   \n",
       "2                            /course/pmp-pmbok6-35-pdus/     True   \n",
       "3         /course/the-complete-financial-analyst-course/     True   \n",
       "4      /course/an-entire-mba-in-1-courseaward-winning...     True   \n",
       "...                                                  ...      ...   \n",
       "13603                                  /course/1-ndgzhu/    False   \n",
       "13604            /course/iaudit_programa_de_integridade/    False   \n",
       "13605  /course/goodwill-and-method-of-calculating-goo...    False   \n",
       "13606                       /course/poderoso-investidor/    False   \n",
       "13607    /course/acabou-a-previdencia-e-agora-volume-03/     True   \n",
       "\n",
       "       num_subscribers  avg_rating  avg_rating_recent   rating  num_reviews  \\\n",
       "0               295509     4.66019            4.67874  4.67874        78006   \n",
       "1               209070     4.58956            4.60015  4.60015        54581   \n",
       "2               155282     4.59491            4.59326  4.59326        52653   \n",
       "3               245860     4.54407            4.53772  4.53772        46447   \n",
       "4               374836     4.47080            4.47173  4.47173        41630   \n",
       "...                ...         ...                ...      ...          ...   \n",
       "13603               47     0.00000            0.00000  0.00000            0   \n",
       "13604               19     0.00000            0.00000  0.00000            0   \n",
       "13605               47     0.00000            0.00000  0.00000            0   \n",
       "13606               48     0.00000            0.00000  0.00000            0   \n",
       "13607                0     0.00000            0.00000  0.00000            0   \n",
       "\n",
       "       is_wishlisted  num_published_lectures  num_published_practice_tests  \\\n",
       "0              False                      84                             0   \n",
       "1              False                      78                             0   \n",
       "2              False                     292                             2   \n",
       "3              False                     338                             0   \n",
       "4              False                      83                             0   \n",
       "...              ...                     ...                           ...   \n",
       "13603          False                       6                             0   \n",
       "13604          False                       5                             0   \n",
       "13605          False                       5                             0   \n",
       "13606          False                      13                             0   \n",
       "13607          False                      14                             0   \n",
       "\n",
       "                    created        published_time  discount_price__amount  \\\n",
       "0      2016-02-14T22:57:48Z  2016-04-06T05:16:11Z                   455.0   \n",
       "1      2016-08-22T12:10:18Z  2016-08-23T16:59:49Z                   455.0   \n",
       "2      2017-09-26T16:32:48Z  2017-11-14T23:58:14Z                   455.0   \n",
       "3      2015-10-23T13:34:35Z  2016-01-21T01:38:48Z                   455.0   \n",
       "4      2015-10-12T06:39:46Z  2016-01-11T21:39:33Z                   455.0   \n",
       "...                     ...                   ...                     ...   \n",
       "13603  2020-04-15T10:20:17Z  2020-04-23T02:06:55Z                     NaN   \n",
       "13604  2020-09-01T17:57:15Z  2020-09-03T15:26:47Z                     NaN   \n",
       "13605  2020-07-27T02:29:18Z  2020-07-31T12:14:40Z                     NaN   \n",
       "13606  2020-06-07T01:29:53Z  2020-07-15T10:35:38Z                     NaN   \n",
       "13607  2020-03-30T19:10:58Z  2020-04-02T16:33:32Z                     NaN   \n",
       "\n",
       "      discount_price__currency discount_price__price_string  \\\n",
       "0                          INR                       â‚¹455   \n",
       "1                          INR                       â‚¹455   \n",
       "2                          INR                       â‚¹455   \n",
       "3                          INR                       â‚¹455   \n",
       "4                          INR                       â‚¹455   \n",
       "...                        ...                          ...   \n",
       "13603                      NaN                          NaN   \n",
       "13604                      NaN                          NaN   \n",
       "13605                      NaN                          NaN   \n",
       "13606                      NaN                          NaN   \n",
       "13607                      NaN                          NaN   \n",
       "\n",
       "       price_detail__amount price_detail__currency price_detail__price_string  \n",
       "0                    8640.0                    INR                   â‚¹8,640  \n",
       "1                    8640.0                    INR                   â‚¹8,640  \n",
       "2                    8640.0                    INR                   â‚¹8,640  \n",
       "3                    8640.0                    INR                   â‚¹8,640  \n",
       "4                    8640.0                    INR                   â‚¹8,640  \n",
       "...                     ...                    ...                        ...  \n",
       "13603                   NaN                    NaN                        NaN  \n",
       "13604                   NaN                    NaN                        NaN  \n",
       "13605                   NaN                    NaN                        NaN  \n",
       "13606                   NaN                    NaN                        NaN  \n",
       "13607                   NaN                    NaN                        NaN  \n",
       "\n",
       "[13608 rows x 20 columns]"
      ]
     },
     "execution_count": 4,
     "metadata": {},
     "output_type": "execute_result"
    }
   ],
   "source": [
    "udemy"
   ]
  },
  {
   "cell_type": "code",
   "execution_count": null,
   "id": "d3bee2d8",
   "metadata": {},
   "outputs": [],
   "source": []
  },
  {
   "cell_type": "code",
   "execution_count": 5,
   "id": "cedd1abb",
   "metadata": {},
   "outputs": [
    {
     "data": {
      "text/plain": [
       "(13608, 20)"
      ]
     },
     "execution_count": 5,
     "metadata": {},
     "output_type": "execute_result"
    }
   ],
   "source": [
    "udemy.shape"
   ]
  },
  {
   "cell_type": "code",
   "execution_count": 6,
   "id": "8793e82f",
   "metadata": {},
   "outputs": [
    {
     "name": "stdout",
     "output_type": "stream",
     "text": [
      "<class 'pandas.core.frame.DataFrame'>\n",
      "RangeIndex: 13608 entries, 0 to 13607\n",
      "Data columns (total 20 columns):\n",
      " #   Column                        Non-Null Count  Dtype  \n",
      "---  ------                        --------------  -----  \n",
      " 0   id                            13608 non-null  int64  \n",
      " 1   title                         13608 non-null  object \n",
      " 2   url                           13608 non-null  object \n",
      " 3   is_paid                       13608 non-null  bool   \n",
      " 4   num_subscribers               13608 non-null  int64  \n",
      " 5   avg_rating                    13608 non-null  float64\n",
      " 6   avg_rating_recent             13608 non-null  float64\n",
      " 7   rating                        13608 non-null  float64\n",
      " 8   num_reviews                   13608 non-null  int64  \n",
      " 9   is_wishlisted                 13608 non-null  bool   \n",
      " 10  num_published_lectures        13608 non-null  int64  \n",
      " 11  num_published_practice_tests  13608 non-null  int64  \n",
      " 12  created                       13608 non-null  object \n",
      " 13  published_time                13608 non-null  object \n",
      " 14  discount_price__amount        12205 non-null  float64\n",
      " 15  discount_price__currency      12205 non-null  object \n",
      " 16  discount_price__price_string  12205 non-null  object \n",
      " 17  price_detail__amount          13111 non-null  float64\n",
      " 18  price_detail__currency        13111 non-null  object \n",
      " 19  price_detail__price_string    13111 non-null  object \n",
      "dtypes: bool(2), float64(5), int64(5), object(8)\n",
      "memory usage: 1.9+ MB\n"
     ]
    }
   ],
   "source": [
    "udemy.info()"
   ]
  },
  {
   "cell_type": "code",
   "execution_count": 7,
   "id": "86f9105f",
   "metadata": {},
   "outputs": [
    {
     "data": {
      "text/plain": [
       "id                                 0\n",
       "title                              0\n",
       "url                                0\n",
       "is_paid                            0\n",
       "num_subscribers                    0\n",
       "avg_rating                         0\n",
       "avg_rating_recent                  0\n",
       "rating                             0\n",
       "num_reviews                        0\n",
       "is_wishlisted                      0\n",
       "num_published_lectures             0\n",
       "num_published_practice_tests       0\n",
       "created                            0\n",
       "published_time                     0\n",
       "discount_price__amount          1403\n",
       "discount_price__currency        1403\n",
       "discount_price__price_string    1403\n",
       "price_detail__amount             497\n",
       "price_detail__currency           497\n",
       "price_detail__price_string       497\n",
       "dtype: int64"
      ]
     },
     "execution_count": 7,
     "metadata": {},
     "output_type": "execute_result"
    }
   ],
   "source": [
    "udemy.isnull().sum()"
   ]
  },
  {
   "cell_type": "markdown",
   "id": "f1314cfa",
   "metadata": {},
   "source": [
    "### PreProcessing"
   ]
  },
  {
   "cell_type": "code",
   "execution_count": 8,
   "id": "ab196507",
   "metadata": {},
   "outputs": [
    {
     "data": {
      "text/plain": [
       "Index(['id', 'title', 'url', 'is_paid', 'num_subscribers', 'avg_rating',\n",
       "       'avg_rating_recent', 'rating', 'num_reviews', 'is_wishlisted',\n",
       "       'num_published_lectures', 'num_published_practice_tests', 'created',\n",
       "       'published_time', 'discount_price__amount', 'discount_price__currency',\n",
       "       'discount_price__price_string', 'price_detail__amount',\n",
       "       'price_detail__currency', 'price_detail__price_string'],\n",
       "      dtype='object')"
      ]
     },
     "execution_count": 8,
     "metadata": {},
     "output_type": "execute_result"
    }
   ],
   "source": [
    "udemy.columns\n"
   ]
  },
  {
   "cell_type": "code",
   "execution_count": 9,
   "id": "dfd27e45",
   "metadata": {},
   "outputs": [
    {
     "data": {
      "text/plain": [
       "(13608, 20)"
      ]
     },
     "execution_count": 9,
     "metadata": {},
     "output_type": "execute_result"
    }
   ],
   "source": [
    "udemy.shape"
   ]
  },
  {
   "cell_type": "code",
   "execution_count": 10,
   "id": "5bb19dc5",
   "metadata": {},
   "outputs": [
    {
     "data": {
      "text/html": [
       "<div>\n",
       "<style scoped>\n",
       "    .dataframe tbody tr th:only-of-type {\n",
       "        vertical-align: middle;\n",
       "    }\n",
       "\n",
       "    .dataframe tbody tr th {\n",
       "        vertical-align: top;\n",
       "    }\n",
       "\n",
       "    .dataframe thead th {\n",
       "        text-align: right;\n",
       "    }\n",
       "</style>\n",
       "<table border=\"1\" class=\"dataframe\">\n",
       "  <thead>\n",
       "    <tr style=\"text-align: right;\">\n",
       "      <th></th>\n",
       "      <th>id</th>\n",
       "      <th>title</th>\n",
       "      <th>url</th>\n",
       "      <th>is_paid</th>\n",
       "      <th>num_subscribers</th>\n",
       "      <th>avg_rating</th>\n",
       "      <th>avg_rating_recent</th>\n",
       "      <th>rating</th>\n",
       "      <th>num_reviews</th>\n",
       "      <th>is_wishlisted</th>\n",
       "      <th>num_published_lectures</th>\n",
       "      <th>num_published_practice_tests</th>\n",
       "      <th>created</th>\n",
       "      <th>published_time</th>\n",
       "      <th>discount_price__amount</th>\n",
       "      <th>discount_price__currency</th>\n",
       "      <th>discount_price__price_string</th>\n",
       "      <th>price_detail__amount</th>\n",
       "      <th>price_detail__currency</th>\n",
       "      <th>price_detail__price_string</th>\n",
       "    </tr>\n",
       "  </thead>\n",
       "  <tbody>\n",
       "    <tr>\n",
       "      <th>count</th>\n",
       "      <td>1.360800e+04</td>\n",
       "      <td>13608</td>\n",
       "      <td>13608</td>\n",
       "      <td>13608</td>\n",
       "      <td>13608.000000</td>\n",
       "      <td>13608.000000</td>\n",
       "      <td>13608.000000</td>\n",
       "      <td>13608.000000</td>\n",
       "      <td>13608.000000</td>\n",
       "      <td>13608</td>\n",
       "      <td>13608.000000</td>\n",
       "      <td>13608.000000</td>\n",
       "      <td>13608</td>\n",
       "      <td>13608</td>\n",
       "      <td>12205.000000</td>\n",
       "      <td>12205</td>\n",
       "      <td>12205</td>\n",
       "      <td>13111.000000</td>\n",
       "      <td>13111</td>\n",
       "      <td>13111</td>\n",
       "    </tr>\n",
       "    <tr>\n",
       "      <th>unique</th>\n",
       "      <td>NaN</td>\n",
       "      <td>13562</td>\n",
       "      <td>13608</td>\n",
       "      <td>2</td>\n",
       "      <td>NaN</td>\n",
       "      <td>NaN</td>\n",
       "      <td>NaN</td>\n",
       "      <td>NaN</td>\n",
       "      <td>NaN</td>\n",
       "      <td>1</td>\n",
       "      <td>NaN</td>\n",
       "      <td>NaN</td>\n",
       "      <td>13607</td>\n",
       "      <td>13605</td>\n",
       "      <td>NaN</td>\n",
       "      <td>1</td>\n",
       "      <td>53</td>\n",
       "      <td>NaN</td>\n",
       "      <td>1</td>\n",
       "      <td>37</td>\n",
       "    </tr>\n",
       "    <tr>\n",
       "      <th>top</th>\n",
       "      <td>NaN</td>\n",
       "      <td>ACI Dealing Certificate</td>\n",
       "      <td>/course/the-complete-sql-bootcamp/</td>\n",
       "      <td>True</td>\n",
       "      <td>NaN</td>\n",
       "      <td>NaN</td>\n",
       "      <td>NaN</td>\n",
       "      <td>NaN</td>\n",
       "      <td>NaN</td>\n",
       "      <td>False</td>\n",
       "      <td>NaN</td>\n",
       "      <td>NaN</td>\n",
       "      <td>2015-09-17T20:27:07Z</td>\n",
       "      <td>2019-08-13T23:28:20Z</td>\n",
       "      <td>NaN</td>\n",
       "      <td>INR</td>\n",
       "      <td>â‚¹455</td>\n",
       "      <td>NaN</td>\n",
       "      <td>INR</td>\n",
       "      <td>â‚¹8,640</td>\n",
       "    </tr>\n",
       "    <tr>\n",
       "      <th>freq</th>\n",
       "      <td>NaN</td>\n",
       "      <td>2</td>\n",
       "      <td>1</td>\n",
       "      <td>13112</td>\n",
       "      <td>NaN</td>\n",
       "      <td>NaN</td>\n",
       "      <td>NaN</td>\n",
       "      <td>NaN</td>\n",
       "      <td>NaN</td>\n",
       "      <td>13608</td>\n",
       "      <td>NaN</td>\n",
       "      <td>NaN</td>\n",
       "      <td>2</td>\n",
       "      <td>2</td>\n",
       "      <td>NaN</td>\n",
       "      <td>12205</td>\n",
       "      <td>11410</td>\n",
       "      <td>NaN</td>\n",
       "      <td>13111</td>\n",
       "      <td>3213</td>\n",
       "    </tr>\n",
       "    <tr>\n",
       "      <th>mean</th>\n",
       "      <td>1.681721e+06</td>\n",
       "      <td>NaN</td>\n",
       "      <td>NaN</td>\n",
       "      <td>NaN</td>\n",
       "      <td>2847.010435</td>\n",
       "      <td>3.923293</td>\n",
       "      <td>3.912242</td>\n",
       "      <td>3.912242</td>\n",
       "      <td>243.169827</td>\n",
       "      <td>NaN</td>\n",
       "      <td>32.224794</td>\n",
       "      <td>0.110523</td>\n",
       "      <td>NaN</td>\n",
       "      <td>NaN</td>\n",
       "      <td>493.943794</td>\n",
       "      <td>NaN</td>\n",
       "      <td>NaN</td>\n",
       "      <td>4646.992602</td>\n",
       "      <td>NaN</td>\n",
       "      <td>NaN</td>\n",
       "    </tr>\n",
       "    <tr>\n",
       "      <th>std</th>\n",
       "      <td>9.539271e+05</td>\n",
       "      <td>NaN</td>\n",
       "      <td>NaN</td>\n",
       "      <td>NaN</td>\n",
       "      <td>9437.865634</td>\n",
       "      <td>1.031304</td>\n",
       "      <td>1.039237</td>\n",
       "      <td>1.039237</td>\n",
       "      <td>1580.965895</td>\n",
       "      <td>NaN</td>\n",
       "      <td>42.766911</td>\n",
       "      <td>0.623501</td>\n",
       "      <td>NaN</td>\n",
       "      <td>NaN</td>\n",
       "      <td>267.827260</td>\n",
       "      <td>NaN</td>\n",
       "      <td>NaN</td>\n",
       "      <td>3109.101019</td>\n",
       "      <td>NaN</td>\n",
       "      <td>NaN</td>\n",
       "    </tr>\n",
       "    <tr>\n",
       "      <th>min</th>\n",
       "      <td>2.762000e+03</td>\n",
       "      <td>NaN</td>\n",
       "      <td>NaN</td>\n",
       "      <td>NaN</td>\n",
       "      <td>0.000000</td>\n",
       "      <td>0.000000</td>\n",
       "      <td>0.000000</td>\n",
       "      <td>0.000000</td>\n",
       "      <td>0.000000</td>\n",
       "      <td>NaN</td>\n",
       "      <td>0.000000</td>\n",
       "      <td>0.000000</td>\n",
       "      <td>NaN</td>\n",
       "      <td>NaN</td>\n",
       "      <td>455.000000</td>\n",
       "      <td>NaN</td>\n",
       "      <td>NaN</td>\n",
       "      <td>1280.000000</td>\n",
       "      <td>NaN</td>\n",
       "      <td>NaN</td>\n",
       "    </tr>\n",
       "    <tr>\n",
       "      <th>25%</th>\n",
       "      <td>8.580862e+05</td>\n",
       "      <td>NaN</td>\n",
       "      <td>NaN</td>\n",
       "      <td>NaN</td>\n",
       "      <td>62.000000</td>\n",
       "      <td>3.800000</td>\n",
       "      <td>3.787315</td>\n",
       "      <td>3.787315</td>\n",
       "      <td>7.000000</td>\n",
       "      <td>NaN</td>\n",
       "      <td>12.000000</td>\n",
       "      <td>0.000000</td>\n",
       "      <td>NaN</td>\n",
       "      <td>NaN</td>\n",
       "      <td>455.000000</td>\n",
       "      <td>NaN</td>\n",
       "      <td>NaN</td>\n",
       "      <td>1600.000000</td>\n",
       "      <td>NaN</td>\n",
       "      <td>NaN</td>\n",
       "    </tr>\n",
       "    <tr>\n",
       "      <th>50%</th>\n",
       "      <td>1.623421e+06</td>\n",
       "      <td>NaN</td>\n",
       "      <td>NaN</td>\n",
       "      <td>NaN</td>\n",
       "      <td>533.000000</td>\n",
       "      <td>4.194440</td>\n",
       "      <td>4.181735</td>\n",
       "      <td>4.181735</td>\n",
       "      <td>24.000000</td>\n",
       "      <td>NaN</td>\n",
       "      <td>21.000000</td>\n",
       "      <td>0.000000</td>\n",
       "      <td>NaN</td>\n",
       "      <td>NaN</td>\n",
       "      <td>455.000000</td>\n",
       "      <td>NaN</td>\n",
       "      <td>NaN</td>\n",
       "      <td>3200.000000</td>\n",
       "      <td>NaN</td>\n",
       "      <td>NaN</td>\n",
       "    </tr>\n",
       "    <tr>\n",
       "      <th>75%</th>\n",
       "      <td>2.503720e+06</td>\n",
       "      <td>NaN</td>\n",
       "      <td>NaN</td>\n",
       "      <td>NaN</td>\n",
       "      <td>2279.500000</td>\n",
       "      <td>4.450000</td>\n",
       "      <td>4.452105</td>\n",
       "      <td>4.452105</td>\n",
       "      <td>87.000000</td>\n",
       "      <td>NaN</td>\n",
       "      <td>37.000000</td>\n",
       "      <td>0.000000</td>\n",
       "      <td>NaN</td>\n",
       "      <td>NaN</td>\n",
       "      <td>455.000000</td>\n",
       "      <td>NaN</td>\n",
       "      <td>NaN</td>\n",
       "      <td>8640.000000</td>\n",
       "      <td>NaN</td>\n",
       "      <td>NaN</td>\n",
       "    </tr>\n",
       "    <tr>\n",
       "      <th>max</th>\n",
       "      <td>3.486006e+06</td>\n",
       "      <td>NaN</td>\n",
       "      <td>NaN</td>\n",
       "      <td>NaN</td>\n",
       "      <td>374836.000000</td>\n",
       "      <td>5.000000</td>\n",
       "      <td>5.000000</td>\n",
       "      <td>5.000000</td>\n",
       "      <td>78006.000000</td>\n",
       "      <td>NaN</td>\n",
       "      <td>699.000000</td>\n",
       "      <td>6.000000</td>\n",
       "      <td>NaN</td>\n",
       "      <td>NaN</td>\n",
       "      <td>3200.000000</td>\n",
       "      <td>NaN</td>\n",
       "      <td>NaN</td>\n",
       "      <td>12800.000000</td>\n",
       "      <td>NaN</td>\n",
       "      <td>NaN</td>\n",
       "    </tr>\n",
       "  </tbody>\n",
       "</table>\n",
       "</div>"
      ],
      "text/plain": [
       "                  id                    title  \\\n",
       "count   1.360800e+04                    13608   \n",
       "unique           NaN                    13562   \n",
       "top              NaN  ACI Dealing Certificate   \n",
       "freq             NaN                        2   \n",
       "mean    1.681721e+06                      NaN   \n",
       "std     9.539271e+05                      NaN   \n",
       "min     2.762000e+03                      NaN   \n",
       "25%     8.580862e+05                      NaN   \n",
       "50%     1.623421e+06                      NaN   \n",
       "75%     2.503720e+06                      NaN   \n",
       "max     3.486006e+06                      NaN   \n",
       "\n",
       "                                       url is_paid  num_subscribers  \\\n",
       "count                                13608   13608     13608.000000   \n",
       "unique                               13608       2              NaN   \n",
       "top     /course/the-complete-sql-bootcamp/    True              NaN   \n",
       "freq                                     1   13112              NaN   \n",
       "mean                                   NaN     NaN      2847.010435   \n",
       "std                                    NaN     NaN      9437.865634   \n",
       "min                                    NaN     NaN         0.000000   \n",
       "25%                                    NaN     NaN        62.000000   \n",
       "50%                                    NaN     NaN       533.000000   \n",
       "75%                                    NaN     NaN      2279.500000   \n",
       "max                                    NaN     NaN    374836.000000   \n",
       "\n",
       "          avg_rating  avg_rating_recent        rating   num_reviews  \\\n",
       "count   13608.000000       13608.000000  13608.000000  13608.000000   \n",
       "unique           NaN                NaN           NaN           NaN   \n",
       "top              NaN                NaN           NaN           NaN   \n",
       "freq             NaN                NaN           NaN           NaN   \n",
       "mean        3.923293           3.912242      3.912242    243.169827   \n",
       "std         1.031304           1.039237      1.039237   1580.965895   \n",
       "min         0.000000           0.000000      0.000000      0.000000   \n",
       "25%         3.800000           3.787315      3.787315      7.000000   \n",
       "50%         4.194440           4.181735      4.181735     24.000000   \n",
       "75%         4.450000           4.452105      4.452105     87.000000   \n",
       "max         5.000000           5.000000      5.000000  78006.000000   \n",
       "\n",
       "       is_wishlisted  num_published_lectures  num_published_practice_tests  \\\n",
       "count          13608            13608.000000                  13608.000000   \n",
       "unique             1                     NaN                           NaN   \n",
       "top            False                     NaN                           NaN   \n",
       "freq           13608                     NaN                           NaN   \n",
       "mean             NaN               32.224794                      0.110523   \n",
       "std              NaN               42.766911                      0.623501   \n",
       "min              NaN                0.000000                      0.000000   \n",
       "25%              NaN               12.000000                      0.000000   \n",
       "50%              NaN               21.000000                      0.000000   \n",
       "75%              NaN               37.000000                      0.000000   \n",
       "max              NaN              699.000000                      6.000000   \n",
       "\n",
       "                     created        published_time  discount_price__amount  \\\n",
       "count                  13608                 13608            12205.000000   \n",
       "unique                 13607                 13605                     NaN   \n",
       "top     2015-09-17T20:27:07Z  2019-08-13T23:28:20Z                     NaN   \n",
       "freq                       2                     2                     NaN   \n",
       "mean                     NaN                   NaN              493.943794   \n",
       "std                      NaN                   NaN              267.827260   \n",
       "min                      NaN                   NaN              455.000000   \n",
       "25%                      NaN                   NaN              455.000000   \n",
       "50%                      NaN                   NaN              455.000000   \n",
       "75%                      NaN                   NaN              455.000000   \n",
       "max                      NaN                   NaN             3200.000000   \n",
       "\n",
       "       discount_price__currency discount_price__price_string  \\\n",
       "count                     12205                        12205   \n",
       "unique                        1                           53   \n",
       "top                         INR                       â‚¹455   \n",
       "freq                      12205                        11410   \n",
       "mean                        NaN                          NaN   \n",
       "std                         NaN                          NaN   \n",
       "min                         NaN                          NaN   \n",
       "25%                         NaN                          NaN   \n",
       "50%                         NaN                          NaN   \n",
       "75%                         NaN                          NaN   \n",
       "max                         NaN                          NaN   \n",
       "\n",
       "        price_detail__amount price_detail__currency price_detail__price_string  \n",
       "count           13111.000000                  13111                      13111  \n",
       "unique                   NaN                      1                         37  \n",
       "top                      NaN                    INR                   â‚¹8,640  \n",
       "freq                     NaN                  13111                       3213  \n",
       "mean             4646.992602                    NaN                        NaN  \n",
       "std              3109.101019                    NaN                        NaN  \n",
       "min              1280.000000                    NaN                        NaN  \n",
       "25%              1600.000000                    NaN                        NaN  \n",
       "50%              3200.000000                    NaN                        NaN  \n",
       "75%              8640.000000                    NaN                        NaN  \n",
       "max             12800.000000                    NaN                        NaN  "
      ]
     },
     "execution_count": 10,
     "metadata": {},
     "output_type": "execute_result"
    }
   ],
   "source": [
    "udemy.describe(include='all')"
   ]
  },
  {
   "cell_type": "code",
   "execution_count": 11,
   "id": "1bc3e6ab",
   "metadata": {},
   "outputs": [
    {
     "data": {
      "text/plain": [
       "Index(['id', 'title', 'url', 'is_paid', 'num_subscribers', 'avg_rating',\n",
       "       'avg_rating_recent', 'rating', 'num_reviews', 'is_wishlisted',\n",
       "       'num_published_lectures', 'num_published_practice_tests', 'created',\n",
       "       'published_time', 'discount_price__amount', 'discount_price__currency',\n",
       "       'discount_price__price_string', 'price_detail__amount',\n",
       "       'price_detail__currency', 'price_detail__price_string'],\n",
       "      dtype='object')"
      ]
     },
     "execution_count": 11,
     "metadata": {},
     "output_type": "execute_result"
    }
   ],
   "source": [
    "###removing unnecessary collumns\n",
    "\n",
    "udemy.columns\n"
   ]
  },
  {
   "cell_type": "code",
   "execution_count": 12,
   "id": "f2dadc86",
   "metadata": {},
   "outputs": [],
   "source": [
    "og=udemy.copy()\n",
    "all_columns_dataset=udemy.copy()\n",
    "udemy=udemy.drop(columns=['id','title','url','is_wishlisted','created','published_time','num_published_practice_tests'])\n"
   ]
  },
  {
   "cell_type": "code",
   "execution_count": 13,
   "id": "10d45486",
   "metadata": {},
   "outputs": [
    {
     "data": {
      "text/html": [
       "<div>\n",
       "<style scoped>\n",
       "    .dataframe tbody tr th:only-of-type {\n",
       "        vertical-align: middle;\n",
       "    }\n",
       "\n",
       "    .dataframe tbody tr th {\n",
       "        vertical-align: top;\n",
       "    }\n",
       "\n",
       "    .dataframe thead th {\n",
       "        text-align: right;\n",
       "    }\n",
       "</style>\n",
       "<table border=\"1\" class=\"dataframe\">\n",
       "  <thead>\n",
       "    <tr style=\"text-align: right;\">\n",
       "      <th></th>\n",
       "      <th>is_paid</th>\n",
       "      <th>num_subscribers</th>\n",
       "      <th>avg_rating</th>\n",
       "      <th>avg_rating_recent</th>\n",
       "      <th>rating</th>\n",
       "      <th>num_reviews</th>\n",
       "      <th>num_published_lectures</th>\n",
       "      <th>discount_price__amount</th>\n",
       "      <th>discount_price__currency</th>\n",
       "      <th>discount_price__price_string</th>\n",
       "      <th>price_detail__amount</th>\n",
       "      <th>price_detail__currency</th>\n",
       "      <th>price_detail__price_string</th>\n",
       "    </tr>\n",
       "  </thead>\n",
       "  <tbody>\n",
       "    <tr>\n",
       "      <th>0</th>\n",
       "      <td>True</td>\n",
       "      <td>295509</td>\n",
       "      <td>4.66019</td>\n",
       "      <td>4.67874</td>\n",
       "      <td>4.67874</td>\n",
       "      <td>78006</td>\n",
       "      <td>84</td>\n",
       "      <td>455.0</td>\n",
       "      <td>INR</td>\n",
       "      <td>â‚¹455</td>\n",
       "      <td>8640.0</td>\n",
       "      <td>INR</td>\n",
       "      <td>â‚¹8,640</td>\n",
       "    </tr>\n",
       "    <tr>\n",
       "      <th>1</th>\n",
       "      <td>True</td>\n",
       "      <td>209070</td>\n",
       "      <td>4.58956</td>\n",
       "      <td>4.60015</td>\n",
       "      <td>4.60015</td>\n",
       "      <td>54581</td>\n",
       "      <td>78</td>\n",
       "      <td>455.0</td>\n",
       "      <td>INR</td>\n",
       "      <td>â‚¹455</td>\n",
       "      <td>8640.0</td>\n",
       "      <td>INR</td>\n",
       "      <td>â‚¹8,640</td>\n",
       "    </tr>\n",
       "    <tr>\n",
       "      <th>2</th>\n",
       "      <td>True</td>\n",
       "      <td>155282</td>\n",
       "      <td>4.59491</td>\n",
       "      <td>4.59326</td>\n",
       "      <td>4.59326</td>\n",
       "      <td>52653</td>\n",
       "      <td>292</td>\n",
       "      <td>455.0</td>\n",
       "      <td>INR</td>\n",
       "      <td>â‚¹455</td>\n",
       "      <td>8640.0</td>\n",
       "      <td>INR</td>\n",
       "      <td>â‚¹8,640</td>\n",
       "    </tr>\n",
       "    <tr>\n",
       "      <th>3</th>\n",
       "      <td>True</td>\n",
       "      <td>245860</td>\n",
       "      <td>4.54407</td>\n",
       "      <td>4.53772</td>\n",
       "      <td>4.53772</td>\n",
       "      <td>46447</td>\n",
       "      <td>338</td>\n",
       "      <td>455.0</td>\n",
       "      <td>INR</td>\n",
       "      <td>â‚¹455</td>\n",
       "      <td>8640.0</td>\n",
       "      <td>INR</td>\n",
       "      <td>â‚¹8,640</td>\n",
       "    </tr>\n",
       "    <tr>\n",
       "      <th>4</th>\n",
       "      <td>True</td>\n",
       "      <td>374836</td>\n",
       "      <td>4.47080</td>\n",
       "      <td>4.47173</td>\n",
       "      <td>4.47173</td>\n",
       "      <td>41630</td>\n",
       "      <td>83</td>\n",
       "      <td>455.0</td>\n",
       "      <td>INR</td>\n",
       "      <td>â‚¹455</td>\n",
       "      <td>8640.0</td>\n",
       "      <td>INR</td>\n",
       "      <td>â‚¹8,640</td>\n",
       "    </tr>\n",
       "    <tr>\n",
       "      <th>...</th>\n",
       "      <td>...</td>\n",
       "      <td>...</td>\n",
       "      <td>...</td>\n",
       "      <td>...</td>\n",
       "      <td>...</td>\n",
       "      <td>...</td>\n",
       "      <td>...</td>\n",
       "      <td>...</td>\n",
       "      <td>...</td>\n",
       "      <td>...</td>\n",
       "      <td>...</td>\n",
       "      <td>...</td>\n",
       "      <td>...</td>\n",
       "    </tr>\n",
       "    <tr>\n",
       "      <th>13603</th>\n",
       "      <td>False</td>\n",
       "      <td>47</td>\n",
       "      <td>0.00000</td>\n",
       "      <td>0.00000</td>\n",
       "      <td>0.00000</td>\n",
       "      <td>0</td>\n",
       "      <td>6</td>\n",
       "      <td>NaN</td>\n",
       "      <td>NaN</td>\n",
       "      <td>NaN</td>\n",
       "      <td>NaN</td>\n",
       "      <td>NaN</td>\n",
       "      <td>NaN</td>\n",
       "    </tr>\n",
       "    <tr>\n",
       "      <th>13604</th>\n",
       "      <td>False</td>\n",
       "      <td>19</td>\n",
       "      <td>0.00000</td>\n",
       "      <td>0.00000</td>\n",
       "      <td>0.00000</td>\n",
       "      <td>0</td>\n",
       "      <td>5</td>\n",
       "      <td>NaN</td>\n",
       "      <td>NaN</td>\n",
       "      <td>NaN</td>\n",
       "      <td>NaN</td>\n",
       "      <td>NaN</td>\n",
       "      <td>NaN</td>\n",
       "    </tr>\n",
       "    <tr>\n",
       "      <th>13605</th>\n",
       "      <td>False</td>\n",
       "      <td>47</td>\n",
       "      <td>0.00000</td>\n",
       "      <td>0.00000</td>\n",
       "      <td>0.00000</td>\n",
       "      <td>0</td>\n",
       "      <td>5</td>\n",
       "      <td>NaN</td>\n",
       "      <td>NaN</td>\n",
       "      <td>NaN</td>\n",
       "      <td>NaN</td>\n",
       "      <td>NaN</td>\n",
       "      <td>NaN</td>\n",
       "    </tr>\n",
       "    <tr>\n",
       "      <th>13606</th>\n",
       "      <td>False</td>\n",
       "      <td>48</td>\n",
       "      <td>0.00000</td>\n",
       "      <td>0.00000</td>\n",
       "      <td>0.00000</td>\n",
       "      <td>0</td>\n",
       "      <td>13</td>\n",
       "      <td>NaN</td>\n",
       "      <td>NaN</td>\n",
       "      <td>NaN</td>\n",
       "      <td>NaN</td>\n",
       "      <td>NaN</td>\n",
       "      <td>NaN</td>\n",
       "    </tr>\n",
       "    <tr>\n",
       "      <th>13607</th>\n",
       "      <td>True</td>\n",
       "      <td>0</td>\n",
       "      <td>0.00000</td>\n",
       "      <td>0.00000</td>\n",
       "      <td>0.00000</td>\n",
       "      <td>0</td>\n",
       "      <td>14</td>\n",
       "      <td>NaN</td>\n",
       "      <td>NaN</td>\n",
       "      <td>NaN</td>\n",
       "      <td>NaN</td>\n",
       "      <td>NaN</td>\n",
       "      <td>NaN</td>\n",
       "    </tr>\n",
       "  </tbody>\n",
       "</table>\n",
       "<p>13608 rows × 13 columns</p>\n",
       "</div>"
      ],
      "text/plain": [
       "       is_paid  num_subscribers  avg_rating  avg_rating_recent   rating  \\\n",
       "0         True           295509     4.66019            4.67874  4.67874   \n",
       "1         True           209070     4.58956            4.60015  4.60015   \n",
       "2         True           155282     4.59491            4.59326  4.59326   \n",
       "3         True           245860     4.54407            4.53772  4.53772   \n",
       "4         True           374836     4.47080            4.47173  4.47173   \n",
       "...        ...              ...         ...                ...      ...   \n",
       "13603    False               47     0.00000            0.00000  0.00000   \n",
       "13604    False               19     0.00000            0.00000  0.00000   \n",
       "13605    False               47     0.00000            0.00000  0.00000   \n",
       "13606    False               48     0.00000            0.00000  0.00000   \n",
       "13607     True                0     0.00000            0.00000  0.00000   \n",
       "\n",
       "       num_reviews  num_published_lectures  discount_price__amount  \\\n",
       "0            78006                      84                   455.0   \n",
       "1            54581                      78                   455.0   \n",
       "2            52653                     292                   455.0   \n",
       "3            46447                     338                   455.0   \n",
       "4            41630                      83                   455.0   \n",
       "...            ...                     ...                     ...   \n",
       "13603            0                       6                     NaN   \n",
       "13604            0                       5                     NaN   \n",
       "13605            0                       5                     NaN   \n",
       "13606            0                      13                     NaN   \n",
       "13607            0                      14                     NaN   \n",
       "\n",
       "      discount_price__currency discount_price__price_string  \\\n",
       "0                          INR                       â‚¹455   \n",
       "1                          INR                       â‚¹455   \n",
       "2                          INR                       â‚¹455   \n",
       "3                          INR                       â‚¹455   \n",
       "4                          INR                       â‚¹455   \n",
       "...                        ...                          ...   \n",
       "13603                      NaN                          NaN   \n",
       "13604                      NaN                          NaN   \n",
       "13605                      NaN                          NaN   \n",
       "13606                      NaN                          NaN   \n",
       "13607                      NaN                          NaN   \n",
       "\n",
       "       price_detail__amount price_detail__currency price_detail__price_string  \n",
       "0                    8640.0                    INR                   â‚¹8,640  \n",
       "1                    8640.0                    INR                   â‚¹8,640  \n",
       "2                    8640.0                    INR                   â‚¹8,640  \n",
       "3                    8640.0                    INR                   â‚¹8,640  \n",
       "4                    8640.0                    INR                   â‚¹8,640  \n",
       "...                     ...                    ...                        ...  \n",
       "13603                   NaN                    NaN                        NaN  \n",
       "13604                   NaN                    NaN                        NaN  \n",
       "13605                   NaN                    NaN                        NaN  \n",
       "13606                   NaN                    NaN                        NaN  \n",
       "13607                   NaN                    NaN                        NaN  \n",
       "\n",
       "[13608 rows x 13 columns]"
      ]
     },
     "execution_count": 13,
     "metadata": {},
     "output_type": "execute_result"
    }
   ],
   "source": [
    "udemy"
   ]
  },
  {
   "cell_type": "code",
   "execution_count": 14,
   "id": "577acb2c",
   "metadata": {},
   "outputs": [],
   "source": [
    "###checking number of reviews is more than number of suscribers\n",
    "\n",
    "\n"
   ]
  },
  {
   "cell_type": "code",
   "execution_count": 15,
   "id": "ff37c93a",
   "metadata": {},
   "outputs": [],
   "source": [
    "review_subscribers=(udemy['num_reviews']>udemy['num_subscribers'])"
   ]
  },
  {
   "cell_type": "code",
   "execution_count": 16,
   "id": "67765117",
   "metadata": {},
   "outputs": [
    {
     "data": {
      "text/plain": [
       "5"
      ]
     },
     "execution_count": 16,
     "metadata": {},
     "output_type": "execute_result"
    }
   ],
   "source": [
    "review_subscribers.sum()"
   ]
  },
  {
   "cell_type": "code",
   "execution_count": 17,
   "id": "29e39655",
   "metadata": {},
   "outputs": [
    {
     "data": {
      "text/html": [
       "<div>\n",
       "<style scoped>\n",
       "    .dataframe tbody tr th:only-of-type {\n",
       "        vertical-align: middle;\n",
       "    }\n",
       "\n",
       "    .dataframe tbody tr th {\n",
       "        vertical-align: top;\n",
       "    }\n",
       "\n",
       "    .dataframe thead th {\n",
       "        text-align: right;\n",
       "    }\n",
       "</style>\n",
       "<table border=\"1\" class=\"dataframe\">\n",
       "  <thead>\n",
       "    <tr style=\"text-align: right;\">\n",
       "      <th></th>\n",
       "      <th>is_paid</th>\n",
       "      <th>num_subscribers</th>\n",
       "      <th>avg_rating</th>\n",
       "      <th>avg_rating_recent</th>\n",
       "      <th>rating</th>\n",
       "      <th>num_reviews</th>\n",
       "      <th>num_published_lectures</th>\n",
       "      <th>discount_price__amount</th>\n",
       "      <th>discount_price__currency</th>\n",
       "      <th>discount_price__price_string</th>\n",
       "      <th>price_detail__amount</th>\n",
       "      <th>price_detail__currency</th>\n",
       "      <th>price_detail__price_string</th>\n",
       "    </tr>\n",
       "  </thead>\n",
       "  <tbody>\n",
       "    <tr>\n",
       "      <th>10898</th>\n",
       "      <td>True</td>\n",
       "      <td>0</td>\n",
       "      <td>3.00</td>\n",
       "      <td>3.00000</td>\n",
       "      <td>3.00000</td>\n",
       "      <td>1</td>\n",
       "      <td>12</td>\n",
       "      <td>455.0</td>\n",
       "      <td>INR</td>\n",
       "      <td>â‚¹455</td>\n",
       "      <td>1280.0</td>\n",
       "      <td>INR</td>\n",
       "      <td>â‚¹1,280</td>\n",
       "    </tr>\n",
       "    <tr>\n",
       "      <th>10950</th>\n",
       "      <td>True</td>\n",
       "      <td>0</td>\n",
       "      <td>5.00</td>\n",
       "      <td>5.00000</td>\n",
       "      <td>5.00000</td>\n",
       "      <td>1</td>\n",
       "      <td>0</td>\n",
       "      <td>NaN</td>\n",
       "      <td>NaN</td>\n",
       "      <td>NaN</td>\n",
       "      <td>2240.0</td>\n",
       "      <td>INR</td>\n",
       "      <td>â‚¹2,240</td>\n",
       "    </tr>\n",
       "    <tr>\n",
       "      <th>12905</th>\n",
       "      <td>True</td>\n",
       "      <td>0</td>\n",
       "      <td>2.75</td>\n",
       "      <td>3.19403</td>\n",
       "      <td>3.19403</td>\n",
       "      <td>2</td>\n",
       "      <td>0</td>\n",
       "      <td>455.0</td>\n",
       "      <td>INR</td>\n",
       "      <td>â‚¹455</td>\n",
       "      <td>1280.0</td>\n",
       "      <td>INR</td>\n",
       "      <td>â‚¹1,280</td>\n",
       "    </tr>\n",
       "    <tr>\n",
       "      <th>12942</th>\n",
       "      <td>True</td>\n",
       "      <td>1</td>\n",
       "      <td>2.50</td>\n",
       "      <td>2.50000</td>\n",
       "      <td>2.50000</td>\n",
       "      <td>2</td>\n",
       "      <td>8</td>\n",
       "      <td>NaN</td>\n",
       "      <td>NaN</td>\n",
       "      <td>NaN</td>\n",
       "      <td>1600.0</td>\n",
       "      <td>INR</td>\n",
       "      <td>â‚¹1,600</td>\n",
       "    </tr>\n",
       "    <tr>\n",
       "      <th>13049</th>\n",
       "      <td>True</td>\n",
       "      <td>0</td>\n",
       "      <td>5.00</td>\n",
       "      <td>5.00000</td>\n",
       "      <td>5.00000</td>\n",
       "      <td>1</td>\n",
       "      <td>13</td>\n",
       "      <td>NaN</td>\n",
       "      <td>NaN</td>\n",
       "      <td>NaN</td>\n",
       "      <td>12800.0</td>\n",
       "      <td>INR</td>\n",
       "      <td>â‚¹12,800</td>\n",
       "    </tr>\n",
       "  </tbody>\n",
       "</table>\n",
       "</div>"
      ],
      "text/plain": [
       "       is_paid  num_subscribers  avg_rating  avg_rating_recent   rating  \\\n",
       "10898     True                0        3.00            3.00000  3.00000   \n",
       "10950     True                0        5.00            5.00000  5.00000   \n",
       "12905     True                0        2.75            3.19403  3.19403   \n",
       "12942     True                1        2.50            2.50000  2.50000   \n",
       "13049     True                0        5.00            5.00000  5.00000   \n",
       "\n",
       "       num_reviews  num_published_lectures  discount_price__amount  \\\n",
       "10898            1                      12                   455.0   \n",
       "10950            1                       0                     NaN   \n",
       "12905            2                       0                   455.0   \n",
       "12942            2                       8                     NaN   \n",
       "13049            1                      13                     NaN   \n",
       "\n",
       "      discount_price__currency discount_price__price_string  \\\n",
       "10898                      INR                       â‚¹455   \n",
       "10950                      NaN                          NaN   \n",
       "12905                      INR                       â‚¹455   \n",
       "12942                      NaN                          NaN   \n",
       "13049                      NaN                          NaN   \n",
       "\n",
       "       price_detail__amount price_detail__currency price_detail__price_string  \n",
       "10898                1280.0                    INR                   â‚¹1,280  \n",
       "10950                2240.0                    INR                   â‚¹2,240  \n",
       "12905                1280.0                    INR                   â‚¹1,280  \n",
       "12942                1600.0                    INR                   â‚¹1,600  \n",
       "13049               12800.0                    INR                  â‚¹12,800  "
      ]
     },
     "execution_count": 17,
     "metadata": {},
     "output_type": "execute_result"
    }
   ],
   "source": [
    "udemy[review_subscribers]"
   ]
  },
  {
   "cell_type": "code",
   "execution_count": 18,
   "id": "ae7f0efc",
   "metadata": {},
   "outputs": [],
   "source": [
    "###drop invalid courses\n",
    "\n",
    "\n"
   ]
  },
  {
   "cell_type": "code",
   "execution_count": 19,
   "id": "f4c1a269",
   "metadata": {},
   "outputs": [],
   "source": [
    "index_list=udemy[review_subscribers].index\n",
    "udemy=udemy.drop(index=index_list)\n",
    "all_columns_dataset=all_columns_dataset.drop(index=index_list)"
   ]
  },
  {
   "cell_type": "code",
   "execution_count": 20,
   "id": "0997808f",
   "metadata": {},
   "outputs": [
    {
     "data": {
      "text/plain": [
       "(13603, 13)"
      ]
     },
     "execution_count": 20,
     "metadata": {},
     "output_type": "execute_result"
    }
   ],
   "source": [
    "udemy.shape"
   ]
  },
  {
   "cell_type": "code",
   "execution_count": 21,
   "id": "4f9ad789",
   "metadata": {},
   "outputs": [
    {
     "data": {
      "text/html": [
       "<div>\n",
       "<style scoped>\n",
       "    .dataframe tbody tr th:only-of-type {\n",
       "        vertical-align: middle;\n",
       "    }\n",
       "\n",
       "    .dataframe tbody tr th {\n",
       "        vertical-align: top;\n",
       "    }\n",
       "\n",
       "    .dataframe thead th {\n",
       "        text-align: right;\n",
       "    }\n",
       "</style>\n",
       "<table border=\"1\" class=\"dataframe\">\n",
       "  <thead>\n",
       "    <tr style=\"text-align: right;\">\n",
       "      <th></th>\n",
       "      <th>is_paid</th>\n",
       "      <th>num_subscribers</th>\n",
       "      <th>avg_rating</th>\n",
       "      <th>avg_rating_recent</th>\n",
       "      <th>rating</th>\n",
       "      <th>num_reviews</th>\n",
       "      <th>num_published_lectures</th>\n",
       "      <th>discount_price__amount</th>\n",
       "      <th>discount_price__currency</th>\n",
       "      <th>discount_price__price_string</th>\n",
       "      <th>price_detail__amount</th>\n",
       "      <th>price_detail__currency</th>\n",
       "      <th>price_detail__price_string</th>\n",
       "    </tr>\n",
       "  </thead>\n",
       "  <tbody>\n",
       "    <tr>\n",
       "      <th>0</th>\n",
       "      <td>True</td>\n",
       "      <td>295509</td>\n",
       "      <td>4.66019</td>\n",
       "      <td>4.67874</td>\n",
       "      <td>4.67874</td>\n",
       "      <td>78006</td>\n",
       "      <td>84</td>\n",
       "      <td>455.0</td>\n",
       "      <td>INR</td>\n",
       "      <td>â‚¹455</td>\n",
       "      <td>8640.0</td>\n",
       "      <td>INR</td>\n",
       "      <td>â‚¹8,640</td>\n",
       "    </tr>\n",
       "    <tr>\n",
       "      <th>1</th>\n",
       "      <td>True</td>\n",
       "      <td>209070</td>\n",
       "      <td>4.58956</td>\n",
       "      <td>4.60015</td>\n",
       "      <td>4.60015</td>\n",
       "      <td>54581</td>\n",
       "      <td>78</td>\n",
       "      <td>455.0</td>\n",
       "      <td>INR</td>\n",
       "      <td>â‚¹455</td>\n",
       "      <td>8640.0</td>\n",
       "      <td>INR</td>\n",
       "      <td>â‚¹8,640</td>\n",
       "    </tr>\n",
       "    <tr>\n",
       "      <th>2</th>\n",
       "      <td>True</td>\n",
       "      <td>155282</td>\n",
       "      <td>4.59491</td>\n",
       "      <td>4.59326</td>\n",
       "      <td>4.59326</td>\n",
       "      <td>52653</td>\n",
       "      <td>292</td>\n",
       "      <td>455.0</td>\n",
       "      <td>INR</td>\n",
       "      <td>â‚¹455</td>\n",
       "      <td>8640.0</td>\n",
       "      <td>INR</td>\n",
       "      <td>â‚¹8,640</td>\n",
       "    </tr>\n",
       "    <tr>\n",
       "      <th>3</th>\n",
       "      <td>True</td>\n",
       "      <td>245860</td>\n",
       "      <td>4.54407</td>\n",
       "      <td>4.53772</td>\n",
       "      <td>4.53772</td>\n",
       "      <td>46447</td>\n",
       "      <td>338</td>\n",
       "      <td>455.0</td>\n",
       "      <td>INR</td>\n",
       "      <td>â‚¹455</td>\n",
       "      <td>8640.0</td>\n",
       "      <td>INR</td>\n",
       "      <td>â‚¹8,640</td>\n",
       "    </tr>\n",
       "    <tr>\n",
       "      <th>4</th>\n",
       "      <td>True</td>\n",
       "      <td>374836</td>\n",
       "      <td>4.47080</td>\n",
       "      <td>4.47173</td>\n",
       "      <td>4.47173</td>\n",
       "      <td>41630</td>\n",
       "      <td>83</td>\n",
       "      <td>455.0</td>\n",
       "      <td>INR</td>\n",
       "      <td>â‚¹455</td>\n",
       "      <td>8640.0</td>\n",
       "      <td>INR</td>\n",
       "      <td>â‚¹8,640</td>\n",
       "    </tr>\n",
       "  </tbody>\n",
       "</table>\n",
       "</div>"
      ],
      "text/plain": [
       "   is_paid  num_subscribers  avg_rating  avg_rating_recent   rating  \\\n",
       "0     True           295509     4.66019            4.67874  4.67874   \n",
       "1     True           209070     4.58956            4.60015  4.60015   \n",
       "2     True           155282     4.59491            4.59326  4.59326   \n",
       "3     True           245860     4.54407            4.53772  4.53772   \n",
       "4     True           374836     4.47080            4.47173  4.47173   \n",
       "\n",
       "   num_reviews  num_published_lectures  discount_price__amount  \\\n",
       "0        78006                      84                   455.0   \n",
       "1        54581                      78                   455.0   \n",
       "2        52653                     292                   455.0   \n",
       "3        46447                     338                   455.0   \n",
       "4        41630                      83                   455.0   \n",
       "\n",
       "  discount_price__currency discount_price__price_string  price_detail__amount  \\\n",
       "0                      INR                       â‚¹455                8640.0   \n",
       "1                      INR                       â‚¹455                8640.0   \n",
       "2                      INR                       â‚¹455                8640.0   \n",
       "3                      INR                       â‚¹455                8640.0   \n",
       "4                      INR                       â‚¹455                8640.0   \n",
       "\n",
       "  price_detail__currency price_detail__price_string  \n",
       "0                    INR                   â‚¹8,640  \n",
       "1                    INR                   â‚¹8,640  \n",
       "2                    INR                   â‚¹8,640  \n",
       "3                    INR                   â‚¹8,640  \n",
       "4                    INR                   â‚¹8,640  "
      ]
     },
     "execution_count": 21,
     "metadata": {},
     "output_type": "execute_result"
    }
   ],
   "source": [
    "udemy.head()"
   ]
  },
  {
   "cell_type": "code",
   "execution_count": 22,
   "id": "02c8e6af",
   "metadata": {},
   "outputs": [],
   "source": [
    "###\n",
    "\n"
   ]
  },
  {
   "cell_type": "code",
   "execution_count": 23,
   "id": "19a15ec7",
   "metadata": {},
   "outputs": [],
   "source": [
    "udemy=udemy.reset_index(drop=True)\n",
    "all_columns_dataset=all_columns_dataset.reset_index(drop=True)"
   ]
  },
  {
   "cell_type": "code",
   "execution_count": 24,
   "id": "22d602a6",
   "metadata": {},
   "outputs": [
    {
     "data": {
      "text/plain": [
       "0"
      ]
     },
     "execution_count": 24,
     "metadata": {},
     "output_type": "execute_result"
    }
   ],
   "source": [
    "##rechecking\n",
    "\n",
    "review_subscribers=(udemy['num_reviews']>udemy['num_subscribers'])\n",
    "review_subscribers.sum()"
   ]
  },
  {
   "cell_type": "code",
   "execution_count": 25,
   "id": "e79b5c1e",
   "metadata": {},
   "outputs": [
    {
     "data": {
      "text/plain": [
       "Index(['is_paid', 'num_subscribers', 'avg_rating', 'avg_rating_recent',\n",
       "       'rating', 'num_reviews', 'num_published_lectures',\n",
       "       'discount_price__amount', 'discount_price__currency',\n",
       "       'discount_price__price_string', 'price_detail__amount',\n",
       "       'price_detail__currency', 'price_detail__price_string'],\n",
       "      dtype='object')"
      ]
     },
     "execution_count": 25,
     "metadata": {},
     "output_type": "execute_result"
    }
   ],
   "source": [
    "udemy.columns"
   ]
  },
  {
   "cell_type": "markdown",
   "id": "9b0a60d9",
   "metadata": {},
   "source": [
    "Price related features"
   ]
  },
  {
   "cell_type": "code",
   "execution_count": 26,
   "id": "71b1dfb9",
   "metadata": {},
   "outputs": [],
   "source": [
    "price_cols=['discount_price__amount', 'discount_price__currency',\n",
    "       'discount_price__price_string', 'price_detail__currency', 'price_detail__price_string']"
   ]
  },
  {
   "cell_type": "code",
   "execution_count": 27,
   "id": "337f6e1b",
   "metadata": {},
   "outputs": [
    {
     "data": {
      "text/html": [
       "<div>\n",
       "<style scoped>\n",
       "    .dataframe tbody tr th:only-of-type {\n",
       "        vertical-align: middle;\n",
       "    }\n",
       "\n",
       "    .dataframe tbody tr th {\n",
       "        vertical-align: top;\n",
       "    }\n",
       "\n",
       "    .dataframe thead th {\n",
       "        text-align: right;\n",
       "    }\n",
       "</style>\n",
       "<table border=\"1\" class=\"dataframe\">\n",
       "  <thead>\n",
       "    <tr style=\"text-align: right;\">\n",
       "      <th></th>\n",
       "      <th>discount_price__amount</th>\n",
       "      <th>discount_price__currency</th>\n",
       "      <th>discount_price__price_string</th>\n",
       "      <th>price_detail__currency</th>\n",
       "      <th>price_detail__price_string</th>\n",
       "    </tr>\n",
       "  </thead>\n",
       "  <tbody>\n",
       "    <tr>\n",
       "      <th>3091</th>\n",
       "      <td>455.0</td>\n",
       "      <td>INR</td>\n",
       "      <td>â‚¹455</td>\n",
       "      <td>INR</td>\n",
       "      <td>â‚¹8,640</td>\n",
       "    </tr>\n",
       "    <tr>\n",
       "      <th>964</th>\n",
       "      <td>481.0</td>\n",
       "      <td>INR</td>\n",
       "      <td>â‚¹481</td>\n",
       "      <td>INR</td>\n",
       "      <td>â‚¹1,280</td>\n",
       "    </tr>\n",
       "    <tr>\n",
       "      <th>10536</th>\n",
       "      <td>455.0</td>\n",
       "      <td>INR</td>\n",
       "      <td>â‚¹455</td>\n",
       "      <td>INR</td>\n",
       "      <td>â‚¹8,640</td>\n",
       "    </tr>\n",
       "    <tr>\n",
       "      <th>1043</th>\n",
       "      <td>455.0</td>\n",
       "      <td>INR</td>\n",
       "      <td>â‚¹455</td>\n",
       "      <td>INR</td>\n",
       "      <td>â‚¹7,360</td>\n",
       "    </tr>\n",
       "    <tr>\n",
       "      <th>5870</th>\n",
       "      <td>455.0</td>\n",
       "      <td>INR</td>\n",
       "      <td>â‚¹455</td>\n",
       "      <td>INR</td>\n",
       "      <td>â‚¹7,680</td>\n",
       "    </tr>\n",
       "    <tr>\n",
       "      <th>9107</th>\n",
       "      <td>700.0</td>\n",
       "      <td>INR</td>\n",
       "      <td>â‚¹700</td>\n",
       "      <td>INR</td>\n",
       "      <td>â‚¹1,280</td>\n",
       "    </tr>\n",
       "    <tr>\n",
       "      <th>6936</th>\n",
       "      <td>455.0</td>\n",
       "      <td>INR</td>\n",
       "      <td>â‚¹455</td>\n",
       "      <td>INR</td>\n",
       "      <td>â‚¹8,640</td>\n",
       "    </tr>\n",
       "    <tr>\n",
       "      <th>3765</th>\n",
       "      <td>455.0</td>\n",
       "      <td>INR</td>\n",
       "      <td>â‚¹455</td>\n",
       "      <td>INR</td>\n",
       "      <td>â‚¹8,000</td>\n",
       "    </tr>\n",
       "    <tr>\n",
       "      <th>12883</th>\n",
       "      <td>455.0</td>\n",
       "      <td>INR</td>\n",
       "      <td>â‚¹455</td>\n",
       "      <td>INR</td>\n",
       "      <td>â‚¹1,600</td>\n",
       "    </tr>\n",
       "    <tr>\n",
       "      <th>11451</th>\n",
       "      <td>455.0</td>\n",
       "      <td>INR</td>\n",
       "      <td>â‚¹455</td>\n",
       "      <td>INR</td>\n",
       "      <td>â‚¹5,440</td>\n",
       "    </tr>\n",
       "  </tbody>\n",
       "</table>\n",
       "</div>"
      ],
      "text/plain": [
       "       discount_price__amount discount_price__currency  \\\n",
       "3091                    455.0                      INR   \n",
       "964                     481.0                      INR   \n",
       "10536                   455.0                      INR   \n",
       "1043                    455.0                      INR   \n",
       "5870                    455.0                      INR   \n",
       "9107                    700.0                      INR   \n",
       "6936                    455.0                      INR   \n",
       "3765                    455.0                      INR   \n",
       "12883                   455.0                      INR   \n",
       "11451                   455.0                      INR   \n",
       "\n",
       "      discount_price__price_string price_detail__currency  \\\n",
       "3091                        â‚¹455                    INR   \n",
       "964                         â‚¹481                    INR   \n",
       "10536                       â‚¹455                    INR   \n",
       "1043                        â‚¹455                    INR   \n",
       "5870                        â‚¹455                    INR   \n",
       "9107                        â‚¹700                    INR   \n",
       "6936                        â‚¹455                    INR   \n",
       "3765                        â‚¹455                    INR   \n",
       "12883                       â‚¹455                    INR   \n",
       "11451                       â‚¹455                    INR   \n",
       "\n",
       "      price_detail__price_string  \n",
       "3091                    â‚¹8,640  \n",
       "964                     â‚¹1,280  \n",
       "10536                   â‚¹8,640  \n",
       "1043                    â‚¹7,360  \n",
       "5870                    â‚¹7,680  \n",
       "9107                    â‚¹1,280  \n",
       "6936                    â‚¹8,640  \n",
       "3765                    â‚¹8,000  \n",
       "12883                   â‚¹1,600  \n",
       "11451                   â‚¹5,440  "
      ]
     },
     "execution_count": 27,
     "metadata": {},
     "output_type": "execute_result"
    }
   ],
   "source": [
    "udemy[price_cols].sample(10)"
   ]
  },
  {
   "cell_type": "code",
   "execution_count": 28,
   "id": "805ce7ad",
   "metadata": {},
   "outputs": [
    {
     "data": {
      "text/plain": [
       "array(['INR', nan], dtype=object)"
      ]
     },
     "execution_count": 28,
     "metadata": {},
     "output_type": "execute_result"
    }
   ],
   "source": [
    "udemy.discount_price__currency.unique()"
   ]
  },
  {
   "cell_type": "code",
   "execution_count": 29,
   "id": "d769188f",
   "metadata": {},
   "outputs": [
    {
     "data": {
      "text/plain": [
       "array([ 455.,  500.,   nan,  540.,  546.,  533.,  481.,  488.,  474.,\n",
       "        462., 2880.,  494., 1600.,  800., 2080.,  520.,  468.,  507.,\n",
       "        700.,  514.,  552.,  640., 3200.,  960., 2720., 1920., 1680.,\n",
       "        611., 2400.,  720., 1280., 2000., 2240., 3040., 2160., 1360.,\n",
       "       1760., 2480., 1120.,  760., 1520., 1440.,  480., 2320., 1200.,\n",
       "       2560., 1840., 2800., 2960.,  560., 2640., 1040.,  880., 3120.])"
      ]
     },
     "execution_count": 29,
     "metadata": {},
     "output_type": "execute_result"
    }
   ],
   "source": [
    "udemy.discount_price__amount.unique()"
   ]
  },
  {
   "cell_type": "code",
   "execution_count": 30,
   "id": "9451031f",
   "metadata": {},
   "outputs": [],
   "source": [
    "###Dropping columns\n",
    "\n"
   ]
  },
  {
   "cell_type": "code",
   "execution_count": 31,
   "id": "0dd3a900",
   "metadata": {},
   "outputs": [],
   "source": [
    "udemy=udemy.drop(['discount_price__price_string','price_detail__price_string','discount_price__currency'],axis=1)"
   ]
  },
  {
   "cell_type": "code",
   "execution_count": 32,
   "id": "676fd629",
   "metadata": {},
   "outputs": [
    {
     "data": {
      "text/plain": [
       "Index(['is_paid', 'num_subscribers', 'avg_rating', 'avg_rating_recent',\n",
       "       'rating', 'num_reviews', 'num_published_lectures',\n",
       "       'discount_price__amount', 'price_detail__amount',\n",
       "       'price_detail__currency'],\n",
       "      dtype='object')"
      ]
     },
     "execution_count": 32,
     "metadata": {},
     "output_type": "execute_result"
    }
   ],
   "source": [
    "udemy.columns"
   ]
  },
  {
   "cell_type": "code",
   "execution_count": 33,
   "id": "32b30361",
   "metadata": {},
   "outputs": [],
   "source": [
    "price_cols=['discount_price__amount','discount_price__amount']\n"
   ]
  },
  {
   "cell_type": "code",
   "execution_count": 34,
   "id": "a4b5569a",
   "metadata": {},
   "outputs": [],
   "source": [
    "###Examine pdiscount price amount\n",
    "\n"
   ]
  },
  {
   "cell_type": "code",
   "execution_count": 35,
   "id": "e826408d",
   "metadata": {},
   "outputs": [],
   "source": [
    "series_bool_discount_price=((udemy['discount_price__amount']!=455) &udemy['discount_price__amount'].notna() )"
   ]
  },
  {
   "cell_type": "code",
   "execution_count": 36,
   "id": "fe964f37",
   "metadata": {},
   "outputs": [
    {
     "data": {
      "text/plain": [
       "795"
      ]
     },
     "execution_count": 36,
     "metadata": {},
     "output_type": "execute_result"
    }
   ],
   "source": [
    "not_455_not_na_count=series_bool_discount_price.sum()\n",
    "not_455_not_na_count"
   ]
  },
  {
   "cell_type": "code",
   "execution_count": 37,
   "id": "b8027444",
   "metadata": {},
   "outputs": [],
   "source": [
    "###Percentage \n",
    "\n"
   ]
  },
  {
   "cell_type": "code",
   "execution_count": 38,
   "id": "cbc6d987",
   "metadata": {},
   "outputs": [
    {
     "data": {
      "text/plain": [
       "5.84"
      ]
     },
     "execution_count": 38,
     "metadata": {},
     "output_type": "execute_result"
    }
   ],
   "source": [
    "not_455_not_na_count=(not_455_not_na_count/udemy['discount_price__amount'].size)*100\n",
    "np.around(not_455_not_na_count,2)"
   ]
  },
  {
   "cell_type": "code",
   "execution_count": 39,
   "id": "832cb91f",
   "metadata": {},
   "outputs": [],
   "source": [
    "###Dropping discount cols\n",
    "\n"
   ]
  },
  {
   "cell_type": "code",
   "execution_count": 40,
   "id": "993be670",
   "metadata": {},
   "outputs": [],
   "source": [
    "udemy=udemy.drop(columns=['discount_price__amount','price_detail__currency'],axis=1)"
   ]
  },
  {
   "cell_type": "code",
   "execution_count": 41,
   "id": "85da6928",
   "metadata": {},
   "outputs": [
    {
     "data": {
      "text/plain": [
       "(13603, 8)"
      ]
     },
     "execution_count": 41,
     "metadata": {},
     "output_type": "execute_result"
    }
   ],
   "source": [
    "udemy.shape"
   ]
  },
  {
   "cell_type": "code",
   "execution_count": 42,
   "id": "3d170b5c",
   "metadata": {},
   "outputs": [
    {
     "data": {
      "text/plain": [
       "Index(['is_paid', 'num_subscribers', 'avg_rating', 'avg_rating_recent',\n",
       "       'rating', 'num_reviews', 'num_published_lectures',\n",
       "       'price_detail__amount'],\n",
       "      dtype='object')"
      ]
     },
     "execution_count": 42,
     "metadata": {},
     "output_type": "execute_result"
    }
   ],
   "source": [
    "udemy.columns"
   ]
  },
  {
   "cell_type": "code",
   "execution_count": 43,
   "id": "45f1cdf1",
   "metadata": {},
   "outputs": [],
   "source": [
    "df_price_id_paid=udemy[['price_detail__amount','is_paid']]"
   ]
  },
  {
   "cell_type": "code",
   "execution_count": 44,
   "id": "e7091660",
   "metadata": {},
   "outputs": [
    {
     "data": {
      "text/html": [
       "<div>\n",
       "<style scoped>\n",
       "    .dataframe tbody tr th:only-of-type {\n",
       "        vertical-align: middle;\n",
       "    }\n",
       "\n",
       "    .dataframe tbody tr th {\n",
       "        vertical-align: top;\n",
       "    }\n",
       "\n",
       "    .dataframe thead th {\n",
       "        text-align: right;\n",
       "    }\n",
       "</style>\n",
       "<table border=\"1\" class=\"dataframe\">\n",
       "  <thead>\n",
       "    <tr style=\"text-align: right;\">\n",
       "      <th></th>\n",
       "      <th>price_detail__amount</th>\n",
       "      <th>is_paid</th>\n",
       "    </tr>\n",
       "  </thead>\n",
       "  <tbody>\n",
       "    <tr>\n",
       "      <th>0</th>\n",
       "      <td>8640.0</td>\n",
       "      <td>True</td>\n",
       "    </tr>\n",
       "    <tr>\n",
       "      <th>1</th>\n",
       "      <td>8640.0</td>\n",
       "      <td>True</td>\n",
       "    </tr>\n",
       "    <tr>\n",
       "      <th>2</th>\n",
       "      <td>8640.0</td>\n",
       "      <td>True</td>\n",
       "    </tr>\n",
       "    <tr>\n",
       "      <th>3</th>\n",
       "      <td>8640.0</td>\n",
       "      <td>True</td>\n",
       "    </tr>\n",
       "    <tr>\n",
       "      <th>4</th>\n",
       "      <td>8640.0</td>\n",
       "      <td>True</td>\n",
       "    </tr>\n",
       "    <tr>\n",
       "      <th>...</th>\n",
       "      <td>...</td>\n",
       "      <td>...</td>\n",
       "    </tr>\n",
       "    <tr>\n",
       "      <th>13598</th>\n",
       "      <td>NaN</td>\n",
       "      <td>False</td>\n",
       "    </tr>\n",
       "    <tr>\n",
       "      <th>13599</th>\n",
       "      <td>NaN</td>\n",
       "      <td>False</td>\n",
       "    </tr>\n",
       "    <tr>\n",
       "      <th>13600</th>\n",
       "      <td>NaN</td>\n",
       "      <td>False</td>\n",
       "    </tr>\n",
       "    <tr>\n",
       "      <th>13601</th>\n",
       "      <td>NaN</td>\n",
       "      <td>False</td>\n",
       "    </tr>\n",
       "    <tr>\n",
       "      <th>13602</th>\n",
       "      <td>NaN</td>\n",
       "      <td>True</td>\n",
       "    </tr>\n",
       "  </tbody>\n",
       "</table>\n",
       "<p>13603 rows × 2 columns</p>\n",
       "</div>"
      ],
      "text/plain": [
       "       price_detail__amount  is_paid\n",
       "0                    8640.0     True\n",
       "1                    8640.0     True\n",
       "2                    8640.0     True\n",
       "3                    8640.0     True\n",
       "4                    8640.0     True\n",
       "...                     ...      ...\n",
       "13598                   NaN    False\n",
       "13599                   NaN    False\n",
       "13600                   NaN    False\n",
       "13601                   NaN    False\n",
       "13602                   NaN     True\n",
       "\n",
       "[13603 rows x 2 columns]"
      ]
     },
     "execution_count": 44,
     "metadata": {},
     "output_type": "execute_result"
    }
   ],
   "source": [
    "df_price_id_paid"
   ]
  },
  {
   "cell_type": "code",
   "execution_count": 45,
   "id": "39faf70f",
   "metadata": {},
   "outputs": [
    {
     "data": {
      "text/html": [
       "<div>\n",
       "<style scoped>\n",
       "    .dataframe tbody tr th:only-of-type {\n",
       "        vertical-align: middle;\n",
       "    }\n",
       "\n",
       "    .dataframe tbody tr th {\n",
       "        vertical-align: top;\n",
       "    }\n",
       "\n",
       "    .dataframe thead th {\n",
       "        text-align: right;\n",
       "    }\n",
       "</style>\n",
       "<table border=\"1\" class=\"dataframe\">\n",
       "  <thead>\n",
       "    <tr style=\"text-align: right;\">\n",
       "      <th></th>\n",
       "      <th>price_detail__amount</th>\n",
       "      <th>is_paid</th>\n",
       "    </tr>\n",
       "  </thead>\n",
       "  <tbody>\n",
       "    <tr>\n",
       "      <th>11651</th>\n",
       "      <td>NaN</td>\n",
       "      <td>False</td>\n",
       "    </tr>\n",
       "    <tr>\n",
       "      <th>13390</th>\n",
       "      <td>NaN</td>\n",
       "      <td>False</td>\n",
       "    </tr>\n",
       "    <tr>\n",
       "      <th>11520</th>\n",
       "      <td>NaN</td>\n",
       "      <td>False</td>\n",
       "    </tr>\n",
       "    <tr>\n",
       "      <th>11584</th>\n",
       "      <td>NaN</td>\n",
       "      <td>False</td>\n",
       "    </tr>\n",
       "    <tr>\n",
       "      <th>13598</th>\n",
       "      <td>NaN</td>\n",
       "      <td>False</td>\n",
       "    </tr>\n",
       "  </tbody>\n",
       "</table>\n",
       "</div>"
      ],
      "text/plain": [
       "       price_detail__amount  is_paid\n",
       "11651                   NaN    False\n",
       "13390                   NaN    False\n",
       "11520                   NaN    False\n",
       "11584                   NaN    False\n",
       "13598                   NaN    False"
      ]
     },
     "execution_count": 45,
     "metadata": {},
     "output_type": "execute_result"
    }
   ],
   "source": [
    "df_price_id_paid[df_price_id_paid['is_paid']==False].sample(5)"
   ]
  },
  {
   "cell_type": "code",
   "execution_count": 46,
   "id": "b5af7fc5",
   "metadata": {},
   "outputs": [
    {
     "data": {
      "text/html": [
       "<div>\n",
       "<style scoped>\n",
       "    .dataframe tbody tr th:only-of-type {\n",
       "        vertical-align: middle;\n",
       "    }\n",
       "\n",
       "    .dataframe tbody tr th {\n",
       "        vertical-align: top;\n",
       "    }\n",
       "\n",
       "    .dataframe thead th {\n",
       "        text-align: right;\n",
       "    }\n",
       "</style>\n",
       "<table border=\"1\" class=\"dataframe\">\n",
       "  <thead>\n",
       "    <tr style=\"text-align: right;\">\n",
       "      <th></th>\n",
       "      <th>price_detail__amount</th>\n",
       "      <th>is_paid</th>\n",
       "    </tr>\n",
       "  </thead>\n",
       "  <tbody>\n",
       "    <tr>\n",
       "      <th>382</th>\n",
       "      <td>1920.0</td>\n",
       "      <td>True</td>\n",
       "    </tr>\n",
       "    <tr>\n",
       "      <th>2231</th>\n",
       "      <td>6400.0</td>\n",
       "      <td>True</td>\n",
       "    </tr>\n",
       "    <tr>\n",
       "      <th>1931</th>\n",
       "      <td>8000.0</td>\n",
       "      <td>True</td>\n",
       "    </tr>\n",
       "    <tr>\n",
       "      <th>1641</th>\n",
       "      <td>1280.0</td>\n",
       "      <td>True</td>\n",
       "    </tr>\n",
       "    <tr>\n",
       "      <th>12193</th>\n",
       "      <td>1280.0</td>\n",
       "      <td>True</td>\n",
       "    </tr>\n",
       "  </tbody>\n",
       "</table>\n",
       "</div>"
      ],
      "text/plain": [
       "       price_detail__amount  is_paid\n",
       "382                  1920.0     True\n",
       "2231                 6400.0     True\n",
       "1931                 8000.0     True\n",
       "1641                 1280.0     True\n",
       "12193                1280.0     True"
      ]
     },
     "execution_count": 46,
     "metadata": {},
     "output_type": "execute_result"
    }
   ],
   "source": [
    "df_price_id_paid[df_price_id_paid['is_paid']==True].sample(5)"
   ]
  },
  {
   "cell_type": "code",
   "execution_count": 47,
   "id": "ce052d75",
   "metadata": {},
   "outputs": [
    {
     "data": {
      "text/plain": [
       "0"
      ]
     },
     "execution_count": 47,
     "metadata": {},
     "output_type": "execute_result"
    }
   ],
   "source": [
    "((udemy['is_paid']==False) &(udemy['price_detail__amount'].notna())).sum()"
   ]
  },
  {
   "cell_type": "code",
   "execution_count": 48,
   "id": "649a5ee5",
   "metadata": {},
   "outputs": [
    {
     "data": {
      "text/plain": [
       "1"
      ]
     },
     "execution_count": 48,
     "metadata": {},
     "output_type": "execute_result"
    }
   ],
   "source": [
    "((udemy['is_paid']) &(udemy['price_detail__amount'].isna())).sum()"
   ]
  },
  {
   "cell_type": "code",
   "execution_count": 49,
   "id": "b4076a68",
   "metadata": {},
   "outputs": [
    {
     "data": {
      "text/html": [
       "<div>\n",
       "<style scoped>\n",
       "    .dataframe tbody tr th:only-of-type {\n",
       "        vertical-align: middle;\n",
       "    }\n",
       "\n",
       "    .dataframe tbody tr th {\n",
       "        vertical-align: top;\n",
       "    }\n",
       "\n",
       "    .dataframe thead th {\n",
       "        text-align: right;\n",
       "    }\n",
       "</style>\n",
       "<table border=\"1\" class=\"dataframe\">\n",
       "  <thead>\n",
       "    <tr style=\"text-align: right;\">\n",
       "      <th></th>\n",
       "      <th>id</th>\n",
       "      <th>title</th>\n",
       "      <th>url</th>\n",
       "      <th>is_paid</th>\n",
       "      <th>num_subscribers</th>\n",
       "      <th>avg_rating</th>\n",
       "      <th>avg_rating_recent</th>\n",
       "      <th>rating</th>\n",
       "      <th>num_reviews</th>\n",
       "      <th>is_wishlisted</th>\n",
       "      <th>num_published_lectures</th>\n",
       "      <th>num_published_practice_tests</th>\n",
       "      <th>created</th>\n",
       "      <th>published_time</th>\n",
       "      <th>discount_price__amount</th>\n",
       "      <th>discount_price__currency</th>\n",
       "      <th>discount_price__price_string</th>\n",
       "      <th>price_detail__amount</th>\n",
       "      <th>price_detail__currency</th>\n",
       "      <th>price_detail__price_string</th>\n",
       "    </tr>\n",
       "  </thead>\n",
       "  <tbody>\n",
       "    <tr>\n",
       "      <th>13602</th>\n",
       "      <td>2935720</td>\n",
       "      <td>Acabou a PrevidÃªncia e agora? -  Volume 03</td>\n",
       "      <td>/course/acabou-a-previdencia-e-agora-volume-03/</td>\n",
       "      <td>True</td>\n",
       "      <td>0</td>\n",
       "      <td>0.0</td>\n",
       "      <td>0.0</td>\n",
       "      <td>0.0</td>\n",
       "      <td>0</td>\n",
       "      <td>False</td>\n",
       "      <td>14</td>\n",
       "      <td>0</td>\n",
       "      <td>2020-03-30T19:10:58Z</td>\n",
       "      <td>2020-04-02T16:33:32Z</td>\n",
       "      <td>NaN</td>\n",
       "      <td>NaN</td>\n",
       "      <td>NaN</td>\n",
       "      <td>NaN</td>\n",
       "      <td>NaN</td>\n",
       "      <td>NaN</td>\n",
       "    </tr>\n",
       "  </tbody>\n",
       "</table>\n",
       "</div>"
      ],
      "text/plain": [
       "            id                                        title  \\\n",
       "13602  2935720  Acabou a PrevidÃªncia e agora? -  Volume 03   \n",
       "\n",
       "                                                   url  is_paid  \\\n",
       "13602  /course/acabou-a-previdencia-e-agora-volume-03/     True   \n",
       "\n",
       "       num_subscribers  avg_rating  avg_rating_recent  rating  num_reviews  \\\n",
       "13602                0         0.0                0.0     0.0            0   \n",
       "\n",
       "       is_wishlisted  num_published_lectures  num_published_practice_tests  \\\n",
       "13602          False                      14                             0   \n",
       "\n",
       "                    created        published_time  discount_price__amount  \\\n",
       "13602  2020-03-30T19:10:58Z  2020-04-02T16:33:32Z                     NaN   \n",
       "\n",
       "      discount_price__currency discount_price__price_string  \\\n",
       "13602                      NaN                          NaN   \n",
       "\n",
       "       price_detail__amount price_detail__currency price_detail__price_string  \n",
       "13602                   NaN                    NaN                        NaN  "
      ]
     },
     "execution_count": 49,
     "metadata": {},
     "output_type": "execute_result"
    }
   ],
   "source": [
    "all_columns_dataset[udemy['is_paid']&udemy['price_detail__amount'].isna()]"
   ]
  },
  {
   "cell_type": "code",
   "execution_count": 50,
   "id": "489c3907",
   "metadata": {},
   "outputs": [],
   "source": [
    "###dropping\n",
    "\n",
    "udemy=udemy.drop(index=[13602])\n",
    "all_columns_dataset=all_columns_dataset.drop(index=13602)"
   ]
  },
  {
   "cell_type": "code",
   "execution_count": 51,
   "id": "05c2aaf7",
   "metadata": {},
   "outputs": [],
   "source": [
    "udemy=udemy.reset_index(drop=True)\n",
    "all_columns_dataset=all_columns_dataset.reset_index(drop=True)"
   ]
  },
  {
   "cell_type": "code",
   "execution_count": 53,
   "id": "833c9282",
   "metadata": {},
   "outputs": [
    {
     "data": {
      "text/plain": [
       "(13602, 8)"
      ]
     },
     "execution_count": 53,
     "metadata": {},
     "output_type": "execute_result"
    }
   ],
   "source": [
    "udemy.shape"
   ]
  },
  {
   "cell_type": "code",
   "execution_count": 54,
   "id": "67290be7",
   "metadata": {},
   "outputs": [
    {
     "name": "stdout",
     "output_type": "stream",
     "text": [
      "<class 'pandas.core.frame.DataFrame'>\n",
      "RangeIndex: 13602 entries, 0 to 13601\n",
      "Data columns (total 8 columns):\n",
      " #   Column                  Non-Null Count  Dtype  \n",
      "---  ------                  --------------  -----  \n",
      " 0   is_paid                 13602 non-null  bool   \n",
      " 1   num_subscribers         13602 non-null  int64  \n",
      " 2   avg_rating              13602 non-null  float64\n",
      " 3   avg_rating_recent       13602 non-null  float64\n",
      " 4   rating                  13602 non-null  float64\n",
      " 5   num_reviews             13602 non-null  int64  \n",
      " 6   num_published_lectures  13602 non-null  int64  \n",
      " 7   price_detail__amount    13106 non-null  float64\n",
      "dtypes: bool(1), float64(4), int64(3)\n",
      "memory usage: 757.3 KB\n"
     ]
    }
   ],
   "source": [
    "udemy.info()"
   ]
  },
  {
   "cell_type": "code",
   "execution_count": 55,
   "id": "208dee65",
   "metadata": {},
   "outputs": [
    {
     "data": {
      "text/plain": [
       "is_paid                     0\n",
       "num_subscribers             0\n",
       "avg_rating                  0\n",
       "avg_rating_recent           0\n",
       "rating                      0\n",
       "num_reviews                 0\n",
       "num_published_lectures      0\n",
       "price_detail__amount      496\n",
       "dtype: int64"
      ]
     },
     "execution_count": 55,
     "metadata": {},
     "output_type": "execute_result"
    }
   ],
   "source": [
    "udemy.isnull().sum()"
   ]
  },
  {
   "cell_type": "code",
   "execution_count": 56,
   "id": "a29de55a",
   "metadata": {},
   "outputs": [],
   "source": [
    "###renaming price_detail__amount \n",
    "\n"
   ]
  },
  {
   "cell_type": "code",
   "execution_count": 57,
   "id": "3544eca3",
   "metadata": {},
   "outputs": [],
   "source": [
    "udemy=udemy.rename(columns={'price_detail__amount':'price'})"
   ]
  },
  {
   "cell_type": "code",
   "execution_count": 59,
   "id": "b1dd46ac",
   "metadata": {},
   "outputs": [
    {
     "name": "stdout",
     "output_type": "stream",
     "text": [
      "<class 'pandas.core.frame.DataFrame'>\n",
      "RangeIndex: 13602 entries, 0 to 13601\n",
      "Data columns (total 8 columns):\n",
      " #   Column                  Non-Null Count  Dtype  \n",
      "---  ------                  --------------  -----  \n",
      " 0   is_paid                 13602 non-null  bool   \n",
      " 1   num_subscribers         13602 non-null  int64  \n",
      " 2   avg_rating              13602 non-null  float64\n",
      " 3   avg_rating_recent       13602 non-null  float64\n",
      " 4   rating                  13602 non-null  float64\n",
      " 5   num_reviews             13602 non-null  int64  \n",
      " 6   num_published_lectures  13602 non-null  int64  \n",
      " 7   price                   13106 non-null  float64\n",
      "dtypes: bool(1), float64(4), int64(3)\n",
      "memory usage: 757.3 KB\n"
     ]
    }
   ],
   "source": [
    "udemy.info()"
   ]
  },
  {
   "cell_type": "markdown",
   "id": "20e2f7f4",
   "metadata": {},
   "source": [
    "### EDA"
   ]
  },
  {
   "cell_type": "code",
   "execution_count": 60,
   "id": "3f20bc00",
   "metadata": {},
   "outputs": [
    {
     "data": {
      "text/html": [
       "<div>\n",
       "<style scoped>\n",
       "    .dataframe tbody tr th:only-of-type {\n",
       "        vertical-align: middle;\n",
       "    }\n",
       "\n",
       "    .dataframe tbody tr th {\n",
       "        vertical-align: top;\n",
       "    }\n",
       "\n",
       "    .dataframe thead th {\n",
       "        text-align: right;\n",
       "    }\n",
       "</style>\n",
       "<table border=\"1\" class=\"dataframe\">\n",
       "  <thead>\n",
       "    <tr style=\"text-align: right;\">\n",
       "      <th></th>\n",
       "      <th>is_paid</th>\n",
       "      <th>num_subscribers</th>\n",
       "      <th>avg_rating</th>\n",
       "      <th>avg_rating_recent</th>\n",
       "      <th>rating</th>\n",
       "      <th>num_reviews</th>\n",
       "      <th>num_published_lectures</th>\n",
       "      <th>price</th>\n",
       "    </tr>\n",
       "  </thead>\n",
       "  <tbody>\n",
       "    <tr>\n",
       "      <th>0</th>\n",
       "      <td>True</td>\n",
       "      <td>295509</td>\n",
       "      <td>4.66019</td>\n",
       "      <td>4.67874</td>\n",
       "      <td>4.67874</td>\n",
       "      <td>78006</td>\n",
       "      <td>84</td>\n",
       "      <td>8640.0</td>\n",
       "    </tr>\n",
       "    <tr>\n",
       "      <th>1</th>\n",
       "      <td>True</td>\n",
       "      <td>209070</td>\n",
       "      <td>4.58956</td>\n",
       "      <td>4.60015</td>\n",
       "      <td>4.60015</td>\n",
       "      <td>54581</td>\n",
       "      <td>78</td>\n",
       "      <td>8640.0</td>\n",
       "    </tr>\n",
       "    <tr>\n",
       "      <th>2</th>\n",
       "      <td>True</td>\n",
       "      <td>155282</td>\n",
       "      <td>4.59491</td>\n",
       "      <td>4.59326</td>\n",
       "      <td>4.59326</td>\n",
       "      <td>52653</td>\n",
       "      <td>292</td>\n",
       "      <td>8640.0</td>\n",
       "    </tr>\n",
       "    <tr>\n",
       "      <th>3</th>\n",
       "      <td>True</td>\n",
       "      <td>245860</td>\n",
       "      <td>4.54407</td>\n",
       "      <td>4.53772</td>\n",
       "      <td>4.53772</td>\n",
       "      <td>46447</td>\n",
       "      <td>338</td>\n",
       "      <td>8640.0</td>\n",
       "    </tr>\n",
       "    <tr>\n",
       "      <th>4</th>\n",
       "      <td>True</td>\n",
       "      <td>374836</td>\n",
       "      <td>4.47080</td>\n",
       "      <td>4.47173</td>\n",
       "      <td>4.47173</td>\n",
       "      <td>41630</td>\n",
       "      <td>83</td>\n",
       "      <td>8640.0</td>\n",
       "    </tr>\n",
       "  </tbody>\n",
       "</table>\n",
       "</div>"
      ],
      "text/plain": [
       "   is_paid  num_subscribers  avg_rating  avg_rating_recent   rating  \\\n",
       "0     True           295509     4.66019            4.67874  4.67874   \n",
       "1     True           209070     4.58956            4.60015  4.60015   \n",
       "2     True           155282     4.59491            4.59326  4.59326   \n",
       "3     True           245860     4.54407            4.53772  4.53772   \n",
       "4     True           374836     4.47080            4.47173  4.47173   \n",
       "\n",
       "   num_reviews  num_published_lectures   price  \n",
       "0        78006                      84  8640.0  \n",
       "1        54581                      78  8640.0  \n",
       "2        52653                     292  8640.0  \n",
       "3        46447                     338  8640.0  \n",
       "4        41630                      83  8640.0  "
      ]
     },
     "execution_count": 60,
     "metadata": {},
     "output_type": "execute_result"
    }
   ],
   "source": [
    "udemy.head()"
   ]
  },
  {
   "cell_type": "code",
   "execution_count": 61,
   "id": "b5023f0b",
   "metadata": {},
   "outputs": [
    {
     "data": {
      "text/html": [
       "<div>\n",
       "<style scoped>\n",
       "    .dataframe tbody tr th:only-of-type {\n",
       "        vertical-align: middle;\n",
       "    }\n",
       "\n",
       "    .dataframe tbody tr th {\n",
       "        vertical-align: top;\n",
       "    }\n",
       "\n",
       "    .dataframe thead th {\n",
       "        text-align: right;\n",
       "    }\n",
       "</style>\n",
       "<table border=\"1\" class=\"dataframe\">\n",
       "  <thead>\n",
       "    <tr style=\"text-align: right;\">\n",
       "      <th></th>\n",
       "      <th>num_subscribers</th>\n",
       "      <th>avg_rating</th>\n",
       "      <th>avg_rating_recent</th>\n",
       "      <th>rating</th>\n",
       "      <th>num_reviews</th>\n",
       "      <th>num_published_lectures</th>\n",
       "      <th>price</th>\n",
       "    </tr>\n",
       "  </thead>\n",
       "  <tbody>\n",
       "    <tr>\n",
       "      <th>count</th>\n",
       "      <td>13602.000000</td>\n",
       "      <td>13602.000000</td>\n",
       "      <td>13602.000000</td>\n",
       "      <td>13602.000000</td>\n",
       "      <td>13602.000000</td>\n",
       "      <td>13602.000000</td>\n",
       "      <td>13106.000000</td>\n",
       "    </tr>\n",
       "    <tr>\n",
       "      <th>mean</th>\n",
       "      <td>2848.266211</td>\n",
       "      <td>3.923682</td>\n",
       "      <td>3.912593</td>\n",
       "      <td>3.912593</td>\n",
       "      <td>243.276577</td>\n",
       "      <td>32.235554</td>\n",
       "      <td>4647.300473</td>\n",
       "    </tr>\n",
       "    <tr>\n",
       "      <th>std</th>\n",
       "      <td>9439.757679</td>\n",
       "      <td>1.030748</td>\n",
       "      <td>1.038723</td>\n",
       "      <td>1.038723</td>\n",
       "      <td>1581.306400</td>\n",
       "      <td>42.773098</td>\n",
       "      <td>3108.415073</td>\n",
       "    </tr>\n",
       "    <tr>\n",
       "      <th>min</th>\n",
       "      <td>0.000000</td>\n",
       "      <td>0.000000</td>\n",
       "      <td>0.000000</td>\n",
       "      <td>0.000000</td>\n",
       "      <td>0.000000</td>\n",
       "      <td>0.000000</td>\n",
       "      <td>1280.000000</td>\n",
       "    </tr>\n",
       "    <tr>\n",
       "      <th>25%</th>\n",
       "      <td>62.000000</td>\n",
       "      <td>3.800000</td>\n",
       "      <td>3.788030</td>\n",
       "      <td>3.788030</td>\n",
       "      <td>7.000000</td>\n",
       "      <td>12.000000</td>\n",
       "      <td>1600.000000</td>\n",
       "    </tr>\n",
       "    <tr>\n",
       "      <th>50%</th>\n",
       "      <td>534.000000</td>\n",
       "      <td>4.194440</td>\n",
       "      <td>4.181950</td>\n",
       "      <td>4.181950</td>\n",
       "      <td>24.000000</td>\n",
       "      <td>21.000000</td>\n",
       "      <td>3200.000000</td>\n",
       "    </tr>\n",
       "    <tr>\n",
       "      <th>75%</th>\n",
       "      <td>2281.750000</td>\n",
       "      <td>4.450000</td>\n",
       "      <td>4.452095</td>\n",
       "      <td>4.452095</td>\n",
       "      <td>87.000000</td>\n",
       "      <td>37.000000</td>\n",
       "      <td>8640.000000</td>\n",
       "    </tr>\n",
       "    <tr>\n",
       "      <th>max</th>\n",
       "      <td>374836.000000</td>\n",
       "      <td>5.000000</td>\n",
       "      <td>5.000000</td>\n",
       "      <td>5.000000</td>\n",
       "      <td>78006.000000</td>\n",
       "      <td>699.000000</td>\n",
       "      <td>12800.000000</td>\n",
       "    </tr>\n",
       "  </tbody>\n",
       "</table>\n",
       "</div>"
      ],
      "text/plain": [
       "       num_subscribers    avg_rating  avg_rating_recent        rating  \\\n",
       "count     13602.000000  13602.000000       13602.000000  13602.000000   \n",
       "mean       2848.266211      3.923682           3.912593      3.912593   \n",
       "std        9439.757679      1.030748           1.038723      1.038723   \n",
       "min           0.000000      0.000000           0.000000      0.000000   \n",
       "25%          62.000000      3.800000           3.788030      3.788030   \n",
       "50%         534.000000      4.194440           4.181950      4.181950   \n",
       "75%        2281.750000      4.450000           4.452095      4.452095   \n",
       "max      374836.000000      5.000000           5.000000      5.000000   \n",
       "\n",
       "        num_reviews  num_published_lectures         price  \n",
       "count  13602.000000            13602.000000  13106.000000  \n",
       "mean     243.276577               32.235554   4647.300473  \n",
       "std     1581.306400               42.773098   3108.415073  \n",
       "min        0.000000                0.000000   1280.000000  \n",
       "25%        7.000000               12.000000   1600.000000  \n",
       "50%       24.000000               21.000000   3200.000000  \n",
       "75%       87.000000               37.000000   8640.000000  \n",
       "max    78006.000000              699.000000  12800.000000  "
      ]
     },
     "execution_count": 61,
     "metadata": {},
     "output_type": "execute_result"
    }
   ],
   "source": [
    "udemy.describe()"
   ]
  },
  {
   "cell_type": "code",
   "execution_count": 62,
   "id": "f430bd13",
   "metadata": {},
   "outputs": [
    {
     "name": "stdout",
     "output_type": "stream",
     "text": [
      "<class 'pandas.core.frame.DataFrame'>\n",
      "RangeIndex: 13602 entries, 0 to 13601\n",
      "Data columns (total 8 columns):\n",
      " #   Column                  Non-Null Count  Dtype  \n",
      "---  ------                  --------------  -----  \n",
      " 0   is_paid                 13602 non-null  bool   \n",
      " 1   num_subscribers         13602 non-null  int64  \n",
      " 2   avg_rating              13602 non-null  float64\n",
      " 3   avg_rating_recent       13602 non-null  float64\n",
      " 4   rating                  13602 non-null  float64\n",
      " 5   num_reviews             13602 non-null  int64  \n",
      " 6   num_published_lectures  13602 non-null  int64  \n",
      " 7   price                   13106 non-null  float64\n",
      "dtypes: bool(1), float64(4), int64(3)\n",
      "memory usage: 757.3 KB\n"
     ]
    }
   ],
   "source": [
    "udemy.info()"
   ]
  },
  {
   "cell_type": "code",
   "execution_count": 63,
   "id": "a4d902b8",
   "metadata": {},
   "outputs": [],
   "source": [
    "###distribution of course price\n",
    "\n",
    "\n"
   ]
  },
  {
   "cell_type": "code",
   "execution_count": 64,
   "id": "cc4a11f0",
   "metadata": {},
   "outputs": [
    {
     "data": {
      "image/png": "[encoded data removed]",
      "text/plain": [
       "<Figure size 360x360 with 1 Axes>"
      ]
     },
     "metadata": {},
     "output_type": "display_data"
    }
   ],
   "source": [
    "sns.displot(udemy['price'],kde=True)\n",
    "plt.show()"
   ]
  },
  {
   "cell_type": "code",
   "execution_count": 65,
   "id": "b1a07d48",
   "metadata": {},
   "outputs": [],
   "source": [
    "###Checking for outliers\n",
    "\n"
   ]
  },
  {
   "cell_type": "code",
   "execution_count": 66,
   "id": "117d1629",
   "metadata": {},
   "outputs": [
    {
     "name": "stderr",
     "output_type": "stream",
     "text": [
      "C:\\Users\\91974\\anaconda3\\lib\\site-packages\\seaborn\\_decorators.py:36: FutureWarning: Pass the following variable as a keyword arg: x. From version 0.12, the only valid positional argument will be `data`, and passing other arguments without an explicit keyword will result in an error or misinterpretation.\n",
      "  warnings.warn(\n"
     ]
    },
    {
     "data": {
      "image/png": "[encoded data removed]",
      "text/plain": [
       "<Figure size 432x288 with 1 Axes>"
      ]
     },
     "metadata": {},
     "output_type": "display_data"
    }
   ],
   "source": [
    "sns.boxplot(udemy['price'])\n",
    "plt.show()"
   ]
  },
  {
   "cell_type": "code",
   "execution_count": 68,
   "id": "dbcd19b8",
   "metadata": {},
   "outputs": [
    {
     "data": {
      "text/plain": [
       "Index(['is_paid', 'num_subscribers', 'avg_rating', 'avg_rating_recent',\n",
       "       'rating', 'num_reviews', 'num_published_lectures', 'price'],\n",
       "      dtype='object')"
      ]
     },
     "execution_count": 68,
     "metadata": {},
     "output_type": "execute_result"
    }
   ],
   "source": [
    "udemy.columns"
   ]
  },
  {
   "cell_type": "code",
   "execution_count": 69,
   "id": "1b4a0ac8",
   "metadata": {},
   "outputs": [],
   "source": [
    "###no. of suscribers\n",
    "\n",
    "\n"
   ]
  },
  {
   "cell_type": "code",
   "execution_count": 71,
   "id": "50af0c84",
   "metadata": {},
   "outputs": [
    {
     "data": {
      "image/png": "[encoded data removed]",
      "text/plain": [
       "<Figure size 360x360 with 1 Axes>"
      ]
     },
     "metadata": {},
     "output_type": "display_data"
    }
   ],
   "source": [
    "sns.displot(udemy['num_subscribers'],kde=True)\n",
    "plt.show()"
   ]
  },
  {
   "cell_type": "code",
   "execution_count": 72,
   "id": "95a1e56e",
   "metadata": {},
   "outputs": [],
   "source": [
    "###average rating\n",
    "\n",
    "\n",
    "\n"
   ]
  },
  {
   "cell_type": "code",
   "execution_count": 73,
   "id": "0340ce79",
   "metadata": {},
   "outputs": [
    {
     "data": {
      "text/plain": [
       "<function matplotlib.pyplot.show(close=None, block=None)>"
      ]
     },
     "execution_count": 73,
     "metadata": {},
     "output_type": "execute_result"
    },
    {
     "data": {
      "image/png": "[encoded data removed]",
      "text/plain": [
       "<Figure size 360x360 with 1 Axes>"
      ]
     },
     "metadata": {},
     "output_type": "display_data"
    }
   ],
   "source": [
    "sns.displot(udemy['avg_rating'],kde=True)\n",
    "plt.show"
   ]
  },
  {
   "cell_type": "code",
   "execution_count": 74,
   "id": "a79f503f",
   "metadata": {},
   "outputs": [
    {
     "data": {
      "text/plain": [
       "<function matplotlib.pyplot.show(close=None, block=None)>"
      ]
     },
     "execution_count": 74,
     "metadata": {},
     "output_type": "execute_result"
    },
    {
     "data": {
      "image/png": "[encoded data removed]",
      "text/plain": [
       "<Figure size 360x360 with 1 Axes>"
      ]
     },
     "metadata": {},
     "output_type": "display_data"
    }
   ],
   "source": [
    "sns.displot(udemy['avg_rating_recent'],kde=True)\n",
    "plt.show"
   ]
  },
  {
   "cell_type": "code",
   "execution_count": 75,
   "id": "4a37487d",
   "metadata": {},
   "outputs": [
    {
     "data": {
      "text/plain": [
       "Index(['is_paid', 'num_subscribers', 'avg_rating', 'avg_rating_recent',\n",
       "       'rating', 'num_reviews', 'num_published_lectures', 'price'],\n",
       "      dtype='object')"
      ]
     },
     "execution_count": 75,
     "metadata": {},
     "output_type": "execute_result"
    }
   ],
   "source": [
    "udemy.columns"
   ]
  },
  {
   "cell_type": "code",
   "execution_count": 76,
   "id": "0520d855",
   "metadata": {},
   "outputs": [],
   "source": [
    "###distibution of number of reviews\n",
    "\n"
   ]
  },
  {
   "cell_type": "code",
   "execution_count": 77,
   "id": "296648cc",
   "metadata": {},
   "outputs": [
    {
     "data": {
      "text/plain": [
       "<function matplotlib.pyplot.show(close=None, block=None)>"
      ]
     },
     "execution_count": 77,
     "metadata": {},
     "output_type": "execute_result"
    },
    {
     "data": {
      "image/png": "[encoded data removed]",
      "text/plain": [
       "<Figure size 360x360 with 1 Axes>"
      ]
     },
     "metadata": {},
     "output_type": "display_data"
    }
   ],
   "source": [
    "sns.displot(udemy['num_reviews'],kde=True)\n",
    "plt.show"
   ]
  },
  {
   "cell_type": "code",
   "execution_count": 79,
   "id": "4dfaf8d8",
   "metadata": {},
   "outputs": [
    {
     "data": {
      "text/plain": [
       "count    13602.000000\n",
       "mean       243.276577\n",
       "std       1581.306400\n",
       "min          0.000000\n",
       "25%          7.000000\n",
       "50%         24.000000\n",
       "75%         87.000000\n",
       "max      78006.000000\n",
       "Name: num_reviews, dtype: float64"
      ]
     },
     "execution_count": 79,
     "metadata": {},
     "output_type": "execute_result"
    }
   ],
   "source": [
    "udemy.num_reviews.describe()"
   ]
  },
  {
   "cell_type": "code",
   "execution_count": 81,
   "id": "ef7fa868",
   "metadata": {},
   "outputs": [
    {
     "data": {
      "text/plain": [
       "Index(['is_paid', 'num_subscribers', 'avg_rating', 'avg_rating_recent',\n",
       "       'rating', 'num_reviews', 'num_published_lectures', 'price'],\n",
       "      dtype='object')"
      ]
     },
     "execution_count": 81,
     "metadata": {},
     "output_type": "execute_result"
    }
   ],
   "source": [
    "udemy.columns"
   ]
  },
  {
   "cell_type": "code",
   "execution_count": 82,
   "id": "dbc4efef",
   "metadata": {},
   "outputs": [
    {
     "data": {
      "text/plain": [
       "<function matplotlib.pyplot.show(close=None, block=None)>"
      ]
     },
     "execution_count": 82,
     "metadata": {},
     "output_type": "execute_result"
    },
    {
     "data": {
      "image/png": "[encoded data removed]",
      "text/plain": [
       "<Figure size 360x360 with 1 Axes>"
      ]
     },
     "metadata": {},
     "output_type": "display_data"
    }
   ],
   "source": [
    "sns.displot(udemy['num_published_lectures'],kde=True)\n",
    "plt.show"
   ]
  },
  {
   "cell_type": "code",
   "execution_count": 87,
   "id": "afe4a647",
   "metadata": {},
   "outputs": [
    {
     "data": {
      "text/html": [
       "<div>\n",
       "<style scoped>\n",
       "    .dataframe tbody tr th:only-of-type {\n",
       "        vertical-align: middle;\n",
       "    }\n",
       "\n",
       "    .dataframe tbody tr th {\n",
       "        vertical-align: top;\n",
       "    }\n",
       "\n",
       "    .dataframe thead th {\n",
       "        text-align: right;\n",
       "    }\n",
       "</style>\n",
       "<table border=\"1\" class=\"dataframe\">\n",
       "  <thead>\n",
       "    <tr style=\"text-align: right;\">\n",
       "      <th></th>\n",
       "      <th>avg_rating</th>\n",
       "      <th>avg_rating_recent</th>\n",
       "      <th>rating</th>\n",
       "    </tr>\n",
       "  </thead>\n",
       "  <tbody>\n",
       "    <tr>\n",
       "      <th>6237</th>\n",
       "      <td>3.95000</td>\n",
       "      <td>3.97474</td>\n",
       "      <td>3.97474</td>\n",
       "    </tr>\n",
       "    <tr>\n",
       "      <th>9589</th>\n",
       "      <td>4.00000</td>\n",
       "      <td>4.14670</td>\n",
       "      <td>4.14670</td>\n",
       "    </tr>\n",
       "    <tr>\n",
       "      <th>335</th>\n",
       "      <td>4.16535</td>\n",
       "      <td>4.17297</td>\n",
       "      <td>4.17297</td>\n",
       "    </tr>\n",
       "    <tr>\n",
       "      <th>11683</th>\n",
       "      <td>3.90000</td>\n",
       "      <td>3.74524</td>\n",
       "      <td>3.74524</td>\n",
       "    </tr>\n",
       "    <tr>\n",
       "      <th>11002</th>\n",
       "      <td>2.00000</td>\n",
       "      <td>2.00000</td>\n",
       "      <td>2.00000</td>\n",
       "    </tr>\n",
       "    <tr>\n",
       "      <th>12812</th>\n",
       "      <td>4.66667</td>\n",
       "      <td>4.60497</td>\n",
       "      <td>4.60497</td>\n",
       "    </tr>\n",
       "    <tr>\n",
       "      <th>4479</th>\n",
       "      <td>4.56522</td>\n",
       "      <td>4.48299</td>\n",
       "      <td>4.48299</td>\n",
       "    </tr>\n",
       "    <tr>\n",
       "      <th>1486</th>\n",
       "      <td>4.12500</td>\n",
       "      <td>4.11517</td>\n",
       "      <td>4.11517</td>\n",
       "    </tr>\n",
       "    <tr>\n",
       "      <th>7759</th>\n",
       "      <td>3.75000</td>\n",
       "      <td>3.21716</td>\n",
       "      <td>3.21716</td>\n",
       "    </tr>\n",
       "    <tr>\n",
       "      <th>884</th>\n",
       "      <td>3.65000</td>\n",
       "      <td>3.50050</td>\n",
       "      <td>3.50050</td>\n",
       "    </tr>\n",
       "  </tbody>\n",
       "</table>\n",
       "</div>"
      ],
      "text/plain": [
       "       avg_rating  avg_rating_recent   rating\n",
       "6237      3.95000            3.97474  3.97474\n",
       "9589      4.00000            4.14670  4.14670\n",
       "335       4.16535            4.17297  4.17297\n",
       "11683     3.90000            3.74524  3.74524\n",
       "11002     2.00000            2.00000  2.00000\n",
       "12812     4.66667            4.60497  4.60497\n",
       "4479      4.56522            4.48299  4.48299\n",
       "1486      4.12500            4.11517  4.11517\n",
       "7759      3.75000            3.21716  3.21716\n",
       "884       3.65000            3.50050  3.50050"
      ]
     },
     "execution_count": 87,
     "metadata": {},
     "output_type": "execute_result"
    }
   ],
   "source": [
    "udemy[['avg_rating','avg_rating_recent','rating']].sample(10)"
   ]
  },
  {
   "cell_type": "code",
   "execution_count": 92,
   "id": "5e08d69a",
   "metadata": {},
   "outputs": [
    {
     "data": {
      "text/plain": [
       "(13602, 8)"
      ]
     },
     "execution_count": 92,
     "metadata": {},
     "output_type": "execute_result"
    }
   ],
   "source": [
    "###lets verify\n",
    "\n",
    "udemy.shape"
   ]
  },
  {
   "cell_type": "code",
   "execution_count": 90,
   "id": "b1b0931f",
   "metadata": {},
   "outputs": [
    {
     "data": {
      "text/plain": [
       "13602"
      ]
     },
     "execution_count": 90,
     "metadata": {},
     "output_type": "execute_result"
    }
   ],
   "source": [
    "(udemy['avg_rating_recent']==udemy['rating']).sum()"
   ]
  },
  {
   "cell_type": "code",
   "execution_count": 93,
   "id": "e37fa5a8",
   "metadata": {},
   "outputs": [],
   "source": [
    "###dropping feature\n",
    "\n",
    "\n"
   ]
  },
  {
   "cell_type": "code",
   "execution_count": 94,
   "id": "a27ce82e",
   "metadata": {},
   "outputs": [],
   "source": [
    "udemy=udemy.drop(columns=['rating'])"
   ]
  },
  {
   "cell_type": "code",
   "execution_count": 95,
   "id": "d1e243ae",
   "metadata": {},
   "outputs": [
    {
     "data": {
      "text/plain": [
       "(13602, 7)"
      ]
     },
     "execution_count": 95,
     "metadata": {},
     "output_type": "execute_result"
    }
   ],
   "source": [
    "udemy.shape"
   ]
  },
  {
   "cell_type": "code",
   "execution_count": 96,
   "id": "e2085637",
   "metadata": {},
   "outputs": [],
   "source": [
    "###correlation\n",
    "\n",
    "\n"
   ]
  },
  {
   "cell_type": "code",
   "execution_count": 97,
   "id": "e05d5ede",
   "metadata": {},
   "outputs": [],
   "source": [
    "from scipy import stats"
   ]
  },
  {
   "cell_type": "code",
   "execution_count": 99,
   "id": "66597496",
   "metadata": {},
   "outputs": [
    {
     "data": {
      "text/plain": [
       "0.99"
      ]
     },
     "execution_count": 99,
     "metadata": {},
     "output_type": "execute_result"
    }
   ],
   "source": [
    "correlation_coefficient=stats.pearsonr(udemy['avg_rating'],udemy['avg_rating_recent'])[0]\n",
    "np.round(correlation_coefficient,2)"
   ]
  },
  {
   "cell_type": "code",
   "execution_count": 100,
   "id": "886b67f3",
   "metadata": {},
   "outputs": [],
   "source": [
    "###dropping collumns\n",
    "\n",
    "\n"
   ]
  },
  {
   "cell_type": "code",
   "execution_count": 102,
   "id": "1781d877",
   "metadata": {},
   "outputs": [],
   "source": [
    "udemy=udemy.drop(columns=['avg_rating_recent'])"
   ]
  },
  {
   "cell_type": "code",
   "execution_count": 103,
   "id": "a5beb30e",
   "metadata": {},
   "outputs": [
    {
     "data": {
      "text/plain": [
       "(13602, 6)"
      ]
     },
     "execution_count": 103,
     "metadata": {},
     "output_type": "execute_result"
    }
   ],
   "source": [
    "udemy.shape"
   ]
  },
  {
   "cell_type": "code",
   "execution_count": 105,
   "id": "06873966",
   "metadata": {},
   "outputs": [
    {
     "data": {
      "text/plain": [
       "Index(['is_paid', 'num_subscribers', 'avg_rating', 'num_reviews',\n",
       "       'num_published_lectures', 'price'],\n",
       "      dtype='object')"
      ]
     },
     "execution_count": 105,
     "metadata": {},
     "output_type": "execute_result"
    }
   ],
   "source": [
    "udemy.columns"
   ]
  },
  {
   "cell_type": "code",
   "execution_count": 106,
   "id": "71cecc85",
   "metadata": {},
   "outputs": [
    {
     "data": {
      "text/html": [
       "<div>\n",
       "<style scoped>\n",
       "    .dataframe tbody tr th:only-of-type {\n",
       "        vertical-align: middle;\n",
       "    }\n",
       "\n",
       "    .dataframe tbody tr th {\n",
       "        vertical-align: top;\n",
       "    }\n",
       "\n",
       "    .dataframe thead th {\n",
       "        text-align: right;\n",
       "    }\n",
       "</style>\n",
       "<table border=\"1\" class=\"dataframe\">\n",
       "  <thead>\n",
       "    <tr style=\"text-align: right;\">\n",
       "      <th></th>\n",
       "      <th>num_subscribers</th>\n",
       "      <th>avg_rating</th>\n",
       "      <th>num_reviews</th>\n",
       "      <th>num_published_lectures</th>\n",
       "      <th>price</th>\n",
       "    </tr>\n",
       "  </thead>\n",
       "  <tbody>\n",
       "    <tr>\n",
       "      <th>num_subscribers</th>\n",
       "      <td>1.000000</td>\n",
       "      <td>0.082050</td>\n",
       "      <td>0.784190</td>\n",
       "      <td>0.211616</td>\n",
       "      <td>0.147556</td>\n",
       "    </tr>\n",
       "    <tr>\n",
       "      <th>avg_rating</th>\n",
       "      <td>0.082050</td>\n",
       "      <td>1.000000</td>\n",
       "      <td>0.068626</td>\n",
       "      <td>0.116755</td>\n",
       "      <td>0.127302</td>\n",
       "    </tr>\n",
       "    <tr>\n",
       "      <th>num_reviews</th>\n",
       "      <td>0.784190</td>\n",
       "      <td>0.068626</td>\n",
       "      <td>1.000000</td>\n",
       "      <td>0.179039</td>\n",
       "      <td>0.100765</td>\n",
       "    </tr>\n",
       "    <tr>\n",
       "      <th>num_published_lectures</th>\n",
       "      <td>0.211616</td>\n",
       "      <td>0.116755</td>\n",
       "      <td>0.179039</td>\n",
       "      <td>1.000000</td>\n",
       "      <td>0.271937</td>\n",
       "    </tr>\n",
       "    <tr>\n",
       "      <th>price</th>\n",
       "      <td>0.147556</td>\n",
       "      <td>0.127302</td>\n",
       "      <td>0.100765</td>\n",
       "      <td>0.271937</td>\n",
       "      <td>1.000000</td>\n",
       "    </tr>\n",
       "  </tbody>\n",
       "</table>\n",
       "</div>"
      ],
      "text/plain": [
       "                        num_subscribers  avg_rating  num_reviews  \\\n",
       "num_subscribers                1.000000    0.082050     0.784190   \n",
       "avg_rating                     0.082050    1.000000     0.068626   \n",
       "num_reviews                    0.784190    0.068626     1.000000   \n",
       "num_published_lectures         0.211616    0.116755     0.179039   \n",
       "price                          0.147556    0.127302     0.100765   \n",
       "\n",
       "                        num_published_lectures     price  \n",
       "num_subscribers                       0.211616  0.147556  \n",
       "avg_rating                            0.116755  0.127302  \n",
       "num_reviews                           0.179039  0.100765  \n",
       "num_published_lectures                1.000000  0.271937  \n",
       "price                                 0.271937  1.000000  "
      ]
     },
     "execution_count": 106,
     "metadata": {},
     "output_type": "execute_result"
    }
   ],
   "source": [
    "udemy[['num_subscribers', 'avg_rating', 'num_reviews',\n",
    "       'num_published_lectures', 'price']].corr()"
   ]
  },
  {
   "cell_type": "code",
   "execution_count": 107,
   "id": "1e7dc5a5",
   "metadata": {},
   "outputs": [],
   "source": [
    "###plotting sub and review\n",
    "\n",
    "\n"
   ]
  },
  {
   "cell_type": "code",
   "execution_count": 108,
   "id": "782ed508",
   "metadata": {},
   "outputs": [
    {
     "data": {
      "image/png": "[encoded data removed]",
      "text/plain": [
       "<Figure size 432x288 with 1 Axes>"
      ]
     },
     "metadata": {},
     "output_type": "display_data"
    }
   ],
   "source": [
    "plt.scatter(udemy['num_subscribers'],udemy['num_reviews'],c=udemy['is_paid'].astype('category').cat.codes,cmap='Dark2')\n",
    "plt.xlabel('Number of Subscribers')\n",
    "plt.ylabel('Number of Reviews')\n",
    "plt.xticks(rotation=90)\n",
    "plt.show()"
   ]
  },
  {
   "cell_type": "code",
   "execution_count": 112,
   "id": "c8243148",
   "metadata": {},
   "outputs": [],
   "source": [
    "udemy['price']=udemy['price'].fillna(0)"
   ]
  },
  {
   "cell_type": "code",
   "execution_count": 114,
   "id": "d9306d48",
   "metadata": {},
   "outputs": [
    {
     "data": {
      "text/plain": [
       "array([ 8640.,  5760.,  1280.,  9280.,  2560.,  4800.,  6720.,  2240.,\n",
       "        1920., 10240.,  3200.,  8960.,  6400.,  7040.,  9600., 12800.,\n",
       "        7680.,  2880.,  4480.,  5440.,  1600.,  6080.,  3520.,  8320.,\n",
       "        7360.,  4160.,  8000.,  3840.,  5120., 12160., 11520.,  9920.,\n",
       "       11840., 12480., 10560., 11200.,     0., 10880.])"
      ]
     },
     "execution_count": 114,
     "metadata": {},
     "output_type": "execute_result"
    }
   ],
   "source": [
    "udemy['price'].unique()"
   ]
  },
  {
   "cell_type": "code",
   "execution_count": 111,
   "id": "884bba5a",
   "metadata": {},
   "outputs": [],
   "source": [
    "###Courses which have more thaan 50,000 subscribers\n",
    "\n",
    "\n"
   ]
  },
  {
   "cell_type": "code",
   "execution_count": 115,
   "id": "b7be528f",
   "metadata": {},
   "outputs": [
    {
     "data": {
      "text/html": [
       "<div>\n",
       "<style scoped>\n",
       "    .dataframe tbody tr th:only-of-type {\n",
       "        vertical-align: middle;\n",
       "    }\n",
       "\n",
       "    .dataframe tbody tr th {\n",
       "        vertical-align: top;\n",
       "    }\n",
       "\n",
       "    .dataframe thead th {\n",
       "        text-align: right;\n",
       "    }\n",
       "</style>\n",
       "<table border=\"1\" class=\"dataframe\">\n",
       "  <thead>\n",
       "    <tr style=\"text-align: right;\">\n",
       "      <th></th>\n",
       "      <th>id</th>\n",
       "      <th>title</th>\n",
       "      <th>url</th>\n",
       "      <th>is_paid</th>\n",
       "      <th>num_subscribers</th>\n",
       "      <th>avg_rating</th>\n",
       "      <th>avg_rating_recent</th>\n",
       "      <th>rating</th>\n",
       "      <th>num_reviews</th>\n",
       "      <th>is_wishlisted</th>\n",
       "      <th>num_published_lectures</th>\n",
       "      <th>num_published_practice_tests</th>\n",
       "      <th>created</th>\n",
       "      <th>published_time</th>\n",
       "      <th>discount_price__amount</th>\n",
       "      <th>discount_price__currency</th>\n",
       "      <th>discount_price__price_string</th>\n",
       "      <th>price_detail__amount</th>\n",
       "      <th>price_detail__currency</th>\n",
       "      <th>price_detail__price_string</th>\n",
       "    </tr>\n",
       "  </thead>\n",
       "  <tbody>\n",
       "    <tr>\n",
       "      <th>24</th>\n",
       "      <td>946742</td>\n",
       "      <td>Beginning Project Management: Project Manageme...</td>\n",
       "      <td>/course/beginning-project-management-project-m...</td>\n",
       "      <td>True</td>\n",
       "      <td>48055</td>\n",
       "      <td>4.43303</td>\n",
       "      <td>4.42199</td>\n",
       "      <td>4.42199</td>\n",
       "      <td>14255</td>\n",
       "      <td>False</td>\n",
       "      <td>44</td>\n",
       "      <td>0</td>\n",
       "      <td>2016-08-31T22:25:31Z</td>\n",
       "      <td>2016-09-04T16:31:00Z</td>\n",
       "      <td>455.0</td>\n",
       "      <td>INR</td>\n",
       "      <td>â‚¹455</td>\n",
       "      <td>4800.0</td>\n",
       "      <td>INR</td>\n",
       "      <td>â‚¹4,800</td>\n",
       "    </tr>\n",
       "    <tr>\n",
       "      <th>27</th>\n",
       "      <td>2013892</td>\n",
       "      <td>Agile Fundamentals: Including Scrum and Kanban...</td>\n",
       "      <td>/course/agile-fundamentals-scrum-kanban-scrumban/</td>\n",
       "      <td>True</td>\n",
       "      <td>49877</td>\n",
       "      <td>4.40093</td>\n",
       "      <td>4.40429</td>\n",
       "      <td>4.40429</td>\n",
       "      <td>11977</td>\n",
       "      <td>False</td>\n",
       "      <td>88</td>\n",
       "      <td>0</td>\n",
       "      <td>2018-11-08T01:07:12Z</td>\n",
       "      <td>2018-11-10T22:07:04Z</td>\n",
       "      <td>455.0</td>\n",
       "      <td>INR</td>\n",
       "      <td>â‚¹455</td>\n",
       "      <td>8640.0</td>\n",
       "      <td>INR</td>\n",
       "      <td>â‚¹8,640</td>\n",
       "    </tr>\n",
       "    <tr>\n",
       "      <th>29</th>\n",
       "      <td>563478</td>\n",
       "      <td>Sales Training: Practical Sales Techniques</td>\n",
       "      <td>/course/master-successful-selling/</td>\n",
       "      <td>True</td>\n",
       "      <td>38698</td>\n",
       "      <td>4.57554</td>\n",
       "      <td>4.58325</td>\n",
       "      <td>4.58325</td>\n",
       "      <td>11529</td>\n",
       "      <td>False</td>\n",
       "      <td>31</td>\n",
       "      <td>0</td>\n",
       "      <td>2015-07-24T08:15:57Z</td>\n",
       "      <td>2015-09-13T17:13:01Z</td>\n",
       "      <td>455.0</td>\n",
       "      <td>INR</td>\n",
       "      <td>â‚¹455</td>\n",
       "      <td>6720.0</td>\n",
       "      <td>INR</td>\n",
       "      <td>â‚¹6,720</td>\n",
       "    </tr>\n",
       "    <tr>\n",
       "      <th>32</th>\n",
       "      <td>536706</td>\n",
       "      <td>Tableau for Beginners: Get CA Certified, Grow ...</td>\n",
       "      <td>/course/tableau-accelerate-your-career-and-get...</td>\n",
       "      <td>True</td>\n",
       "      <td>39873</td>\n",
       "      <td>4.46625</td>\n",
       "      <td>4.49998</td>\n",
       "      <td>4.49998</td>\n",
       "      <td>10725</td>\n",
       "      <td>False</td>\n",
       "      <td>124</td>\n",
       "      <td>0</td>\n",
       "      <td>2015-06-25T00:17:12Z</td>\n",
       "      <td>2015-11-09T19:03:20Z</td>\n",
       "      <td>455.0</td>\n",
       "      <td>INR</td>\n",
       "      <td>â‚¹455</td>\n",
       "      <td>2560.0</td>\n",
       "      <td>INR</td>\n",
       "      <td>â‚¹2,560</td>\n",
       "    </tr>\n",
       "    <tr>\n",
       "      <th>33</th>\n",
       "      <td>139166</td>\n",
       "      <td>Conscious Listening</td>\n",
       "      <td>/course/conscious-listening/</td>\n",
       "      <td>True</td>\n",
       "      <td>27681</td>\n",
       "      <td>4.47545</td>\n",
       "      <td>4.48064</td>\n",
       "      <td>4.48064</td>\n",
       "      <td>10671</td>\n",
       "      <td>False</td>\n",
       "      <td>14</td>\n",
       "      <td>0</td>\n",
       "      <td>2013-12-29T13:38:01Z</td>\n",
       "      <td>2013-12-31T16:51:18Z</td>\n",
       "      <td>NaN</td>\n",
       "      <td>NaN</td>\n",
       "      <td>NaN</td>\n",
       "      <td>2240.0</td>\n",
       "      <td>INR</td>\n",
       "      <td>â‚¹2,240</td>\n",
       "    </tr>\n",
       "    <tr>\n",
       "      <th>...</th>\n",
       "      <td>...</td>\n",
       "      <td>...</td>\n",
       "      <td>...</td>\n",
       "      <td>...</td>\n",
       "      <td>...</td>\n",
       "      <td>...</td>\n",
       "      <td>...</td>\n",
       "      <td>...</td>\n",
       "      <td>...</td>\n",
       "      <td>...</td>\n",
       "      <td>...</td>\n",
       "      <td>...</td>\n",
       "      <td>...</td>\n",
       "      <td>...</td>\n",
       "      <td>...</td>\n",
       "      <td>...</td>\n",
       "      <td>...</td>\n",
       "      <td>...</td>\n",
       "      <td>...</td>\n",
       "      <td>...</td>\n",
       "    </tr>\n",
       "    <tr>\n",
       "      <th>13597</th>\n",
       "      <td>3397774</td>\n",
       "      <td>×ž×¡×—×¨ ××•×˜×•×ž×˜×™ ×‘×©×•×§ ×”×”×•×Ÿ</td>\n",
       "      <td>/course/btqhvihn/</td>\n",
       "      <td>False</td>\n",
       "      <td>19</td>\n",
       "      <td>0.00000</td>\n",
       "      <td>0.00000</td>\n",
       "      <td>0.00000</td>\n",
       "      <td>0</td>\n",
       "      <td>False</td>\n",
       "      <td>20</td>\n",
       "      <td>0</td>\n",
       "      <td>2020-08-06T10:59:41Z</td>\n",
       "      <td>2020-08-06T15:37:04Z</td>\n",
       "      <td>NaN</td>\n",
       "      <td>NaN</td>\n",
       "      <td>NaN</td>\n",
       "      <td>NaN</td>\n",
       "      <td>NaN</td>\n",
       "      <td>NaN</td>\n",
       "    </tr>\n",
       "    <tr>\n",
       "      <th>13598</th>\n",
       "      <td>3005408</td>\n",
       "      <td>×ž×•×©×’×™× ×‘×¡×™×¡×™×™× ×‘××•×¤×¦×™×•×ª ×...</td>\n",
       "      <td>/course/1-ndgzhu/</td>\n",
       "      <td>False</td>\n",
       "      <td>47</td>\n",
       "      <td>0.00000</td>\n",
       "      <td>0.00000</td>\n",
       "      <td>0.00000</td>\n",
       "      <td>0</td>\n",
       "      <td>False</td>\n",
       "      <td>6</td>\n",
       "      <td>0</td>\n",
       "      <td>2020-04-15T10:20:17Z</td>\n",
       "      <td>2020-04-23T02:06:55Z</td>\n",
       "      <td>NaN</td>\n",
       "      <td>NaN</td>\n",
       "      <td>NaN</td>\n",
       "      <td>NaN</td>\n",
       "      <td>NaN</td>\n",
       "      <td>NaN</td>\n",
       "    </tr>\n",
       "    <tr>\n",
       "      <th>13599</th>\n",
       "      <td>3467284</td>\n",
       "      <td>Programa de Integridade</td>\n",
       "      <td>/course/iaudit_programa_de_integridade/</td>\n",
       "      <td>False</td>\n",
       "      <td>19</td>\n",
       "      <td>0.00000</td>\n",
       "      <td>0.00000</td>\n",
       "      <td>0.00000</td>\n",
       "      <td>0</td>\n",
       "      <td>False</td>\n",
       "      <td>5</td>\n",
       "      <td>0</td>\n",
       "      <td>2020-09-01T17:57:15Z</td>\n",
       "      <td>2020-09-03T15:26:47Z</td>\n",
       "      <td>NaN</td>\n",
       "      <td>NaN</td>\n",
       "      <td>NaN</td>\n",
       "      <td>NaN</td>\n",
       "      <td>NaN</td>\n",
       "      <td>NaN</td>\n",
       "    </tr>\n",
       "    <tr>\n",
       "      <th>13600</th>\n",
       "      <td>3368222</td>\n",
       "      <td>Goodwill and Method of Calculating Goodwill (A...</td>\n",
       "      <td>/course/goodwill-and-method-of-calculating-goo...</td>\n",
       "      <td>False</td>\n",
       "      <td>47</td>\n",
       "      <td>0.00000</td>\n",
       "      <td>0.00000</td>\n",
       "      <td>0.00000</td>\n",
       "      <td>0</td>\n",
       "      <td>False</td>\n",
       "      <td>5</td>\n",
       "      <td>0</td>\n",
       "      <td>2020-07-27T02:29:18Z</td>\n",
       "      <td>2020-07-31T12:14:40Z</td>\n",
       "      <td>NaN</td>\n",
       "      <td>NaN</td>\n",
       "      <td>NaN</td>\n",
       "      <td>NaN</td>\n",
       "      <td>NaN</td>\n",
       "      <td>NaN</td>\n",
       "    </tr>\n",
       "    <tr>\n",
       "      <th>13601</th>\n",
       "      <td>3211345</td>\n",
       "      <td>Poderoso Investidor</td>\n",
       "      <td>/course/poderoso-investidor/</td>\n",
       "      <td>False</td>\n",
       "      <td>48</td>\n",
       "      <td>0.00000</td>\n",
       "      <td>0.00000</td>\n",
       "      <td>0.00000</td>\n",
       "      <td>0</td>\n",
       "      <td>False</td>\n",
       "      <td>13</td>\n",
       "      <td>0</td>\n",
       "      <td>2020-06-07T01:29:53Z</td>\n",
       "      <td>2020-07-15T10:35:38Z</td>\n",
       "      <td>NaN</td>\n",
       "      <td>NaN</td>\n",
       "      <td>NaN</td>\n",
       "      <td>NaN</td>\n",
       "      <td>NaN</td>\n",
       "      <td>NaN</td>\n",
       "    </tr>\n",
       "  </tbody>\n",
       "</table>\n",
       "<p>13540 rows × 20 columns</p>\n",
       "</div>"
      ],
      "text/plain": [
       "            id                                              title  \\\n",
       "24      946742  Beginning Project Management: Project Manageme...   \n",
       "27     2013892  Agile Fundamentals: Including Scrum and Kanban...   \n",
       "29      563478         Sales Training: Practical Sales Techniques   \n",
       "32      536706  Tableau for Beginners: Get CA Certified, Grow ...   \n",
       "33      139166                                Conscious Listening   \n",
       "...        ...                                                ...   \n",
       "13597  3397774          ×ž×¡×—×¨ ××•×˜×•×ž×˜×™ ×‘×©×•×§ ×”×”×•×Ÿ   \n",
       "13598  3005408  ×ž×•×©×’×™× ×‘×¡×™×¡×™×™× ×‘××•×¤×¦×™×•×ª ×...   \n",
       "13599  3467284                            Programa de Integridade   \n",
       "13600  3368222  Goodwill and Method of Calculating Goodwill (A...   \n",
       "13601  3211345                                Poderoso Investidor   \n",
       "\n",
       "                                                     url  is_paid  \\\n",
       "24     /course/beginning-project-management-project-m...     True   \n",
       "27     /course/agile-fundamentals-scrum-kanban-scrumban/     True   \n",
       "29                    /course/master-successful-selling/     True   \n",
       "32     /course/tableau-accelerate-your-career-and-get...     True   \n",
       "33                          /course/conscious-listening/     True   \n",
       "...                                                  ...      ...   \n",
       "13597                                  /course/btqhvihn/    False   \n",
       "13598                                  /course/1-ndgzhu/    False   \n",
       "13599            /course/iaudit_programa_de_integridade/    False   \n",
       "13600  /course/goodwill-and-method-of-calculating-goo...    False   \n",
       "13601                       /course/poderoso-investidor/    False   \n",
       "\n",
       "       num_subscribers  avg_rating  avg_rating_recent   rating  num_reviews  \\\n",
       "24               48055     4.43303            4.42199  4.42199        14255   \n",
       "27               49877     4.40093            4.40429  4.40429        11977   \n",
       "29               38698     4.57554            4.58325  4.58325        11529   \n",
       "32               39873     4.46625            4.49998  4.49998        10725   \n",
       "33               27681     4.47545            4.48064  4.48064        10671   \n",
       "...                ...         ...                ...      ...          ...   \n",
       "13597               19     0.00000            0.00000  0.00000            0   \n",
       "13598               47     0.00000            0.00000  0.00000            0   \n",
       "13599               19     0.00000            0.00000  0.00000            0   \n",
       "13600               47     0.00000            0.00000  0.00000            0   \n",
       "13601               48     0.00000            0.00000  0.00000            0   \n",
       "\n",
       "       is_wishlisted  num_published_lectures  num_published_practice_tests  \\\n",
       "24             False                      44                             0   \n",
       "27             False                      88                             0   \n",
       "29             False                      31                             0   \n",
       "32             False                     124                             0   \n",
       "33             False                      14                             0   \n",
       "...              ...                     ...                           ...   \n",
       "13597          False                      20                             0   \n",
       "13598          False                       6                             0   \n",
       "13599          False                       5                             0   \n",
       "13600          False                       5                             0   \n",
       "13601          False                      13                             0   \n",
       "\n",
       "                    created        published_time  discount_price__amount  \\\n",
       "24     2016-08-31T22:25:31Z  2016-09-04T16:31:00Z                   455.0   \n",
       "27     2018-11-08T01:07:12Z  2018-11-10T22:07:04Z                   455.0   \n",
       "29     2015-07-24T08:15:57Z  2015-09-13T17:13:01Z                   455.0   \n",
       "32     2015-06-25T00:17:12Z  2015-11-09T19:03:20Z                   455.0   \n",
       "33     2013-12-29T13:38:01Z  2013-12-31T16:51:18Z                     NaN   \n",
       "...                     ...                   ...                     ...   \n",
       "13597  2020-08-06T10:59:41Z  2020-08-06T15:37:04Z                     NaN   \n",
       "13598  2020-04-15T10:20:17Z  2020-04-23T02:06:55Z                     NaN   \n",
       "13599  2020-09-01T17:57:15Z  2020-09-03T15:26:47Z                     NaN   \n",
       "13600  2020-07-27T02:29:18Z  2020-07-31T12:14:40Z                     NaN   \n",
       "13601  2020-06-07T01:29:53Z  2020-07-15T10:35:38Z                     NaN   \n",
       "\n",
       "      discount_price__currency discount_price__price_string  \\\n",
       "24                         INR                       â‚¹455   \n",
       "27                         INR                       â‚¹455   \n",
       "29                         INR                       â‚¹455   \n",
       "32                         INR                       â‚¹455   \n",
       "33                         NaN                          NaN   \n",
       "...                        ...                          ...   \n",
       "13597                      NaN                          NaN   \n",
       "13598                      NaN                          NaN   \n",
       "13599                      NaN                          NaN   \n",
       "13600                      NaN                          NaN   \n",
       "13601                      NaN                          NaN   \n",
       "\n",
       "       price_detail__amount price_detail__currency price_detail__price_string  \n",
       "24                   4800.0                    INR                   â‚¹4,800  \n",
       "27                   8640.0                    INR                   â‚¹8,640  \n",
       "29                   6720.0                    INR                   â‚¹6,720  \n",
       "32                   2560.0                    INR                   â‚¹2,560  \n",
       "33                   2240.0                    INR                   â‚¹2,240  \n",
       "...                     ...                    ...                        ...  \n",
       "13597                   NaN                    NaN                        NaN  \n",
       "13598                   NaN                    NaN                        NaN  \n",
       "13599                   NaN                    NaN                        NaN  \n",
       "13600                   NaN                    NaN                        NaN  \n",
       "13601                   NaN                    NaN                        NaN  \n",
       "\n",
       "[13540 rows x 20 columns]"
      ]
     },
     "execution_count": 115,
     "metadata": {},
     "output_type": "execute_result"
    }
   ],
   "source": [
    "all_columns_dataset[(udemy['num_subscribers']>=50000)&udemy['price']==0]"
   ]
  },
  {
   "cell_type": "code",
   "execution_count": 116,
   "id": "91a0c35c",
   "metadata": {},
   "outputs": [
    {
     "data": {
      "text/html": [
       "<div>\n",
       "<style scoped>\n",
       "    .dataframe tbody tr th:only-of-type {\n",
       "        vertical-align: middle;\n",
       "    }\n",
       "\n",
       "    .dataframe tbody tr th {\n",
       "        vertical-align: top;\n",
       "    }\n",
       "\n",
       "    .dataframe thead th {\n",
       "        text-align: right;\n",
       "    }\n",
       "</style>\n",
       "<table border=\"1\" class=\"dataframe\">\n",
       "  <thead>\n",
       "    <tr style=\"text-align: right;\">\n",
       "      <th></th>\n",
       "      <th>id</th>\n",
       "      <th>title</th>\n",
       "      <th>url</th>\n",
       "      <th>is_paid</th>\n",
       "      <th>num_subscribers</th>\n",
       "      <th>avg_rating</th>\n",
       "      <th>avg_rating_recent</th>\n",
       "      <th>rating</th>\n",
       "      <th>num_reviews</th>\n",
       "      <th>is_wishlisted</th>\n",
       "      <th>num_published_lectures</th>\n",
       "      <th>num_published_practice_tests</th>\n",
       "      <th>created</th>\n",
       "      <th>published_time</th>\n",
       "      <th>discount_price__amount</th>\n",
       "      <th>discount_price__currency</th>\n",
       "      <th>discount_price__price_string</th>\n",
       "      <th>price_detail__amount</th>\n",
       "      <th>price_detail__currency</th>\n",
       "      <th>price_detail__price_string</th>\n",
       "    </tr>\n",
       "  </thead>\n",
       "  <tbody>\n",
       "    <tr>\n",
       "      <th>11482</th>\n",
       "      <td>133536</td>\n",
       "      <td>Stock Market Investing for Beginners</td>\n",
       "      <td>/course/the-beginners-guide-to-the-stock-market/</td>\n",
       "      <td>False</td>\n",
       "      <td>259888</td>\n",
       "      <td>4.34928</td>\n",
       "      <td>4.35902</td>\n",
       "      <td>4.35902</td>\n",
       "      <td>23635</td>\n",
       "      <td>False</td>\n",
       "      <td>15</td>\n",
       "      <td>0</td>\n",
       "      <td>2013-12-14T15:04:10Z</td>\n",
       "      <td>2013-12-25T19:53:34Z</td>\n",
       "      <td>NaN</td>\n",
       "      <td>NaN</td>\n",
       "      <td>NaN</td>\n",
       "      <td>NaN</td>\n",
       "      <td>NaN</td>\n",
       "      <td>NaN</td>\n",
       "    </tr>\n",
       "  </tbody>\n",
       "</table>\n",
       "</div>"
      ],
      "text/plain": [
       "           id                                 title  \\\n",
       "11482  133536  Stock Market Investing for Beginners   \n",
       "\n",
       "                                                    url  is_paid  \\\n",
       "11482  /course/the-beginners-guide-to-the-stock-market/    False   \n",
       "\n",
       "       num_subscribers  avg_rating  avg_rating_recent   rating  num_reviews  \\\n",
       "11482           259888     4.34928            4.35902  4.35902        23635   \n",
       "\n",
       "       is_wishlisted  num_published_lectures  num_published_practice_tests  \\\n",
       "11482          False                      15                             0   \n",
       "\n",
       "                    created        published_time  discount_price__amount  \\\n",
       "11482  2013-12-14T15:04:10Z  2013-12-25T19:53:34Z                     NaN   \n",
       "\n",
       "      discount_price__currency discount_price__price_string  \\\n",
       "11482                      NaN                          NaN   \n",
       "\n",
       "       price_detail__amount price_detail__currency price_detail__price_string  \n",
       "11482                   NaN                    NaN                        NaN  "
      ]
     },
     "execution_count": 116,
     "metadata": {},
     "output_type": "execute_result"
    }
   ],
   "source": [
    "all_columns_dataset[(udemy['num_subscribers']>250000) & (udemy['price'] ==0)]"
   ]
  },
  {
   "cell_type": "code",
   "execution_count": null,
   "id": "674e2b7b",
   "metadata": {},
   "outputs": [],
   "source": []
  }
 ],
 "metadata": {
  "kernelspec": {
   "display_name": "Python 3 (ipykernel)",
   "language": "python",
   "name": "python3"
  },
  "language_info": {
   "codemirror_mode": {
    "name": "ipython",
    "version": 3
   },
   "file_extension": ".py",
   "mimetype": "text/x-python",
   "name": "python",
   "nbconvert_exporter": "python",
   "pygments_lexer": "ipython3",
   "version": "3.9.7"
  }
 },
 "nbformat": 4,
 "nbformat_minor": 5
}
